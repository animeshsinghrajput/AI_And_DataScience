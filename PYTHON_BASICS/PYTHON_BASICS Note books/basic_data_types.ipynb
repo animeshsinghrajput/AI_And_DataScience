{
 "cells": [
  {
   "cell_type": "markdown",
   "metadata": {},
   "source": [
    "# basic_data_types"
   ]
  },
  {
   "cell_type": "markdown",
   "metadata": {},
   "source": [
    "    \n",
    "    1)python is a general purpose high level programming language.\n",
    "    2) guido van rossam @ 1989\n",
    "    3)c,java --> statically typed programming\n",
    "      python -->dynamically typed programming\n",
    "    4)Python REPL tool   REPL ----> read evaluate print loop\n",
    "    5) gating in py\n",
    "       a)functional programming from c\n",
    "       b)oop from c++\n",
    "       c)scripting langauges features form perl and shell script\n",
    "       d)modular programming features from modula-3\n",
    "    6) area used in py\n",
    "        a)desktop application\n",
    "        b)web application\n",
    "        c)database application\n",
    "        d)N\\W Application\n",
    "        e) games\n",
    "        F)data analysis\n",
    "        g)machine learning\n",
    "        h)AI\n",
    "        i)IOT applications..."
   ]
  },
  {
   "cell_type": "markdown",
   "metadata": {},
   "source": [
    "py Tokens :identifiers\n",
    " -----------------------\n",
    " key words.\n",
    " identifiers :identifiers are the name used to identify a var,function,class and object.\n",
    " literals(int,float,etc...),\n",
    " operators.\n",
    " rules for identifiers\n",
    " ----------------------\n",
    "    1)only upper and lower case alphabets and it is case sensitive\n",
    "           digits(0 TO 9)\n",
    "           UNDERSCORE (_)\n",
    "    2)Identifer should not start with digit\n",
    "    3)Identifer should not use key words.\n",
    "    4) _Var ==> private\n",
    "       __Var ==> strongly private\n",
    "       __name__  ==>language spe identifers\n",
    "       __add__   ==>language spe identifers"
   ]
  },
  {
   "cell_type": "code",
   "execution_count": 5,
   "metadata": {},
   "outputs": [
    {
     "name": "stdout",
     "output_type": "stream",
     "text": [
      "['False', 'None', 'True', 'and', 'as', 'assert', 'async', 'await', 'break', 'class', 'continue', 'def', 'del', 'elif', 'else', 'except', 'finally', 'for', 'from', 'global', 'if', 'import', 'in', 'is', 'lambda', 'nonlocal', 'not', 'or', 'pass', 'raise', 'return', 'try', 'while', 'with', 'yield']\n"
     ]
    }
   ],
   "source": [
    "import keyword             #to print total key words\n",
    "print(keyword.kwlist)\n",
    "#and.iskeyword          \n",
    "#total key words 33\n"
   ]
  },
  {
   "cell_type": "code",
   "execution_count": 7,
   "metadata": {},
   "outputs": [
    {
     "name": "stdout",
     "output_type": "stream",
     "text": [
      "Help on built-in function print in module builtins:\n",
      "\n",
      "print(...)\n",
      "    print(value, ..., sep=' ', end='\\n', file=sys.stdout, flush=False)\n",
      "    \n",
      "    Prints the values to a stream, or to sys.stdout by default.\n",
      "    Optional keyword arguments:\n",
      "    file:  a file-like object (stream); defaults to the current sys.stdout.\n",
      "    sep:   string inserted between values, default a space.\n",
      "    end:   string appended after the last value, default a newline.\n",
      "    flush: whether to forcibly flush the stream.\n",
      "\n",
      "10\n"
     ]
    },
    {
     "data": {
      "text/plain": [
       "['__all__',\n",
       " '__builtins__',\n",
       " '__cached__',\n",
       " '__doc__',\n",
       " '__file__',\n",
       " '__loader__',\n",
       " '__name__',\n",
       " '__package__',\n",
       " '__spec__',\n",
       " 'iskeyword',\n",
       " 'kwlist',\n",
       " 'main']"
      ]
     },
     "execution_count": 7,
     "metadata": {},
     "output_type": "execute_result"
    }
   ],
   "source": [
    "# built-in function print in module builtins:\n",
    "num=10\n",
    "help(print)                 #to get any help for py                      \n",
    "type(num)                   #to get data type\n",
    "print(num)                  #to print any thinking\n",
    "id(num)                     #to get the id of object\n",
    "dir(keyword)                 # gives fun of lib"
   ]
  },
  {
   "cell_type": "markdown",
   "metadata": {},
   "source": [
    "# DATA TYPES"
   ]
  },
  {
   "cell_type": "code",
   "execution_count": 11,
   "metadata": {},
   "outputs": [
    {
     "name": "stdout",
     "output_type": "stream",
     "text": [
      "<class 'int'> <class 'int'> 140737328637040 140737328637040\n"
     ]
    }
   ],
   "source": [
    "#------------ DATA TYPES -------------#\n",
    "i=10                  # int                   --> immutable(non-changable)---> immutable only at 0 to 256 ranges'\n",
    "f=10.345              # float                 --> immutable\n",
    "com=10+23J            # complex               --> immutable\n",
    "b= True               #bool                   --> immutable\n",
    "s='gopikakarapalli'   # str                   --> immutable\n",
    "                      #range                  --> immutable\n",
    "                      #bytes and bytearray    --> immutable & mutable\n",
    "                      #list[] and tuple()     -->mutable & immutable\n",
    "                      #set{} and frozenset    -->mutable & immutable\n",
    "                       #dictionary ==>dict{K:V}-->mutable \n",
    "                       #None\n",
    "                     \n",
    "print(type(num),type(i),id(num),id(i)) # adv of  immutable\n",
    "                "
   ]
  },
  {
   "cell_type": "markdown",
   "metadata": {},
   "source": [
    "### int data type"
   ]
  },
  {
   "cell_type": "code",
   "execution_count": 15,
   "metadata": {},
   "outputs": [
    {
     "name": "stdout",
     "output_type": "stream",
     "text": [
      "# int data type ---->int immutable only at 0 to 256 ranges\n",
      "dec:11 \n",
      "bin:7     7 \n",
      "oct:73     73 \n",
      "Hex:273     273\n",
      "<class 'int'>\n"
     ]
    }
   ],
   "source": [
    "print('# int data type ---->int immutable only at 0 to 256 ranges')\n",
    "\n",
    "\n",
    "i,j=10,20\n",
    "d=11           #Decimal form\n",
    "B=0B111        #Binary form\n",
    "b=0b111\n",
    "O=0O111        #Octtal form\n",
    "o=0o111\n",
    "H=0X111        #hexa decimal\n",
    "h=0x111\n",
    "print('dec:'+ str(d),\n",
    "      '\\nbin:'+ str(B),'   ',str(b),\n",
    "      '\\noct:'+ str(O),'   ',str(o),\n",
    "      '\\nHex:'+ str(H),'   ',str(h))   # all o\\p are in decimal form olny\n",
    "print(type(b))   # <class 'int'>\n"
   ]
  },
  {
   "cell_type": "code",
   "execution_count": 18,
   "metadata": {},
   "outputs": [
    {
     "name": "stdout",
     "output_type": "stream",
     "text": [
      "---------------------base conversions--------------------\n",
      "value of d 11\n",
      "bin:0b1011\t oct:0o13\thex:0xb\n",
      "22\n",
      "14\n",
      "80\n",
      "511\n",
      "273\n"
     ]
    }
   ],
   "source": [
    "print('---------------------base conversions--------------------')\n",
    "print('value of d', d)\n",
    "bin(d)\n",
    "oct(d)\n",
    "hex(d)\n",
    "print(\"bin:\"+bin(d)+\"\\t oct:\"+oct(d)+\"\\thex:\"+hex(d))\n",
    "print(d+d)\n",
    "print(B+b)\n",
    "print(B+O)    #any type we can add ,sub,mul,DIVED & and or nor etc..,\n",
    "print(B*O)\n",
    "print(H or o)"
   ]
  },
  {
   "cell_type": "markdown",
   "metadata": {},
   "source": [
    "### float data type"
   ]
  },
  {
   "cell_type": "code",
   "execution_count": 19,
   "metadata": {},
   "outputs": [
    {
     "name": "stdout",
     "output_type": "stream",
     "text": [
      "# float data type ----->immutable\n",
      "<class 'float'>\n",
      "float:10.01234   exponential form:1.02e+101\n"
     ]
    }
   ],
   "source": [
    "print(\"# float data type ----->immutable\")\n",
    "\n",
    "f=10.01234\n",
    "print(type(f))         #<class 'float'>\n",
    "#fb=0b011      #systaxerror : invalid syntex (not workes in bin,oct,hex\n",
    "ex=10.2e100\n",
    "print('float:'+str(f) +'   exponential form:'+str(ex))"
   ]
  },
  {
   "cell_type": "markdown",
   "metadata": {},
   "source": [
    "### complex data type"
   ]
  },
  {
   "cell_type": "code",
   "execution_count": 21,
   "metadata": {},
   "outputs": [
    {
     "name": "stdout",
     "output_type": "stream",
     "text": [
      "# complex data type  ----> immutable\n",
      "com i:(10+10j)com f:(1.03+0.34j)com if:(10+0.445j)com fi:(1.3+10j)\n",
      "<class 'complex'>\n",
      "(4+4j)\n",
      "10.0\n",
      "0.445\n",
      "(11.03+10.34j)\n",
      "(8.97+9.66j)\n",
      "(6.9+13.700000000000001j)\n",
      "(11.644708882277943+5.864853378665533j)\n",
      "(-8.97-9.66j)\n",
      "(1.03+0.34j)\n",
      "10.34\n"
     ]
    }
   ],
   "source": [
    "print(\"# complex data type  ----> immutable\")\n",
    "comi=10+10j             # a+bj\n",
    "comf=1.03+0.34J         # a=real & b=imaginary    j^2=-1\n",
    "com_if=10+0.445j\n",
    "com_fi=1.3+10J    \n",
    "print('com i:'+str(comi)+'com f:'+str(comf)+\n",
    "      'com if:'+ str(com_if)+'com fi:'+str(com_fi))\n",
    "\n",
    "print(type(comi))\n",
    "print(complex(4,4.0))\n",
    "print(com_if.real)\n",
    "print(com_if.imag)\n",
    "print(comi+comf)\n",
    "print(comi-comf)\n",
    "print(comi*comf)\n",
    "print(comi/comf)\n",
    "print(-comi+comf)\n",
    "print(comi and comf)\n",
    "print(comi.real+comf.imag)\n",
    "\n"
   ]
  },
  {
   "cell_type": "markdown",
   "metadata": {},
   "source": [
    "### bool data type"
   ]
  },
  {
   "cell_type": "code",
   "execution_count": 22,
   "metadata": {},
   "outputs": [
    {
     "name": "stdout",
     "output_type": "stream",
     "text": [
      "bool data type    ---> immutable\n",
      "True\n",
      "<class 'bool'>\n",
      "internaly True= 1 -->non zero;    False= 0\n",
      "True\n"
     ]
    }
   ],
   "source": [
    "print(\"bool data type    ---> immutable\")\n",
    "\n",
    "boo1=True            #only True , False\n",
    "boo2=False            #internaly True= non zero (1,25); False= zero(0)\n",
    "print(boo1)\n",
    "print (type(boo1))\n",
    "print('internaly True=',int(True),'-->non zero;    False=', int(False))\n",
    "print(10>9)\n"
   ]
  },
  {
   "cell_type": "markdown",
   "metadata": {},
   "source": [
    "### string data type"
   ]
  },
  {
   "cell_type": "code",
   "execution_count": 26,
   "metadata": {},
   "outputs": [
    {
     "name": "stdout",
     "output_type": "stream",
     "text": [
      "# string data type  ---> immutable\n",
      "gopi kakarapalli\n",
      " SIVA KAKARAPALLI\n",
      " AnushaKakarapalli\n",
      " chakrapani kakarapalli      \n",
      "  krishnarao kakarapalli\n",
      " siva 'anusha'kakarapalli\n",
      " siva 'anusha'kakarapalli\n",
      "g\u000b",
      " o\u000b",
      " p\u000b",
      " i \u000b",
      "\t kakarapalli\n",
      "True\n",
      "<class 'str'>\n",
      "##strings add , mult\n",
      "gopi kakarapalliSIVA KAKARAPALLI\n",
      "gopi kakarapalligopi kakarapalligopi kakarapalli\n"
     ]
    }
   ],
   "source": [
    "print('# string data type  ---> immutable')\n",
    "\n",
    "\n",
    "s1='gopi kakarapalli'                 #Single quotes --->str\n",
    "s2=\"SIVA KAKARAPALLI\"                 #double quotes ---->string\n",
    "s3='Anusha\\\n",
    "Kakarapalli'\n",
    "s4=\"\"\"chakrapani kakarapalli      \n",
    "  krishnarao kakarapalli\"\"\"           #triple quotes\"\"\" or '''---> multi lines\n",
    "s5=\"siva 'anusha'kakarapalli\"         #to print ' \" ---> \\' or \\\"\n",
    "s6=\"siva \\'anusha\\'kakarapalli\"\n",
    "s7='g\\v o\\v p\\v i \\v\\t kakarapalli'   # to get v & H(tab)---> \\v ,\\t\n",
    "print(s1 +'\\n',s2 +'\\n',s3 +'\\n',s4 +'\\n',s5 +'\\n',s6 +'\\n'+s7)\n",
    "print(s5==s6)\n",
    "\n",
    "print(type(s1))\n",
    "\n",
    "#strings add , mult\n",
    "print('##strings add , mult')\n",
    "print(s1+s2)\n",
    "print(s1*3)\n"
   ]
  },
  {
   "cell_type": "code",
   "execution_count": 27,
   "metadata": {},
   "outputs": [
    {
     "name": "stdout",
     "output_type": "stream",
     "text": [
      "---------------------strings opration  with index----------------------\n",
      "gopi kakarapalli\n",
      "s1 fw index 0 element:g\n",
      "s1 RW index 0 element:a\n",
      "i\n",
      "<class 'str'>\n",
      "##slice operator\n",
      "1--gopi kakarapalli\n",
      "2--kkrpl\n",
      "3--illaparakak ipog\n",
      "4--ipo\n",
      "5--illaparak\n",
      "6--arakak ip\n",
      "1--gopi kakarapalli\n",
      "2--gopi kakar\n",
      "3-- kakarapalli\n",
      "4--gopi kakarapall\n",
      "5--akarapall\n"
     ]
    }
   ],
   "source": [
    "print('---------------------strings opration  with index----------------------')\n",
    "\n",
    "print(s1)                                # s1=     [g o p i   k a k a r a p a l l i]\n",
    "print('s1 fw index 0 element:'+s1[0])    #FW index:[0 1 2 3 4 5 6 7 8 9 10.........] start at 0\n",
    "print('s1 RW index 0 element:'+s1[-4])   #rw index:[...... ...-10-9-8-7-6-5-4-3-2-1] start at -1    \n",
    "s1_indx=s1[3]\n",
    "print(s1_indx)\n",
    "#print(s1[20])         #IndexError: string index out of range\n",
    "print(type(s1_indx))\n",
    "##slice operator\n",
    "print('##slice operator')\n",
    "print('1--'+s1[::])         #  s1[start index:end-1 index : no steps]\n",
    "print('2--'+s1[5:14:2])     # default slice oprator[ 0:end index: 1]\n",
    "print('3--'+s1[::-1])\n",
    "print('4--'+s1[3:0:-1])\n",
    "print('5--'+s1[-1:-10:-1])\n",
    "print('6--'+s1[10:1:-1])\n",
    "\n",
    "print('1--'+s1[:])\n",
    "print('2--'+s1[:10])\n",
    "print('3--'+s1[4:])\n",
    "print('4--'+s1[:-1])\n",
    "print('5--'+s1[-10:-1])\n"
   ]
  },
  {
   "cell_type": "markdown",
   "metadata": {},
   "source": [
    "string function"
   ]
  },
  {
   "cell_type": "code",
   "execution_count": 29,
   "metadata": {},
   "outputs": [
    {
     "name": "stdout",
     "output_type": "stream",
     "text": [
      "-----------------## string function ##-----------------------\n",
      "--------------------------split-----------------------------\n",
      "with out spli str s1;   gopi kakarapalli\n",
      "default split with \" \"---> ['gopi', 'kakarapalli']\n",
      "go,pi,kakarapalli\n",
      "split with (,)----->  ['go', 'pi', 'kakarapalli']\n"
     ]
    }
   ],
   "source": [
    "print('-----------------## string function ##-----------------------')\n",
    "print('--------------------------split-----------------------------')\n",
    "print('with out spli str s1;  ',s1)\n",
    "f1=s1.split()         #default split : spe \" \"\n",
    "print('default split with \" \"--->',f1)\n",
    "f2='go,pi,kakarapalli'          \n",
    "print(f2)\n",
    "f3=f2.split(',')                   # split with , ;  . / - etc..,---> enter(,)\n",
    "print('split with (,)-----> ',f3)\n",
    "\n"
   ]
  },
  {
   "cell_type": "code",
   "execution_count": 34,
   "metadata": {},
   "outputs": [
    {
     "name": "stdout",
     "output_type": "stream",
     "text": [
      "--------------------join ------------------------------------ gopi kakarapalli ['gopi', 'kakarapalli']\n",
      "join at end of each g o p i   k a k a r a p a l l i\n",
      "join---> g@o@p@i@ @k@a@k@a@r@a@p@a@l@l@i\n",
      "str f1;--> ['gopi', 'kakarapalli']\n",
      "spli &join---> gopi $  kakarapalli\n",
      "str f3;--> ['go', 'pi', 'kakarapalli']\n",
      "spli &join--->  go27pi27kakarapalli\n",
      "split--- ['eleph', 't is ', ' ', 'imal']\n",
      "join----> elephant is an animal\n"
     ]
    }
   ],
   "source": [
    "print('--------------------join ------------------------------------',s1)\n",
    "print('join at end of each',' '.join(s1))# join str at end of the str\n",
    "print('join--->','@'.join(s1))\n",
    "print('str f1;-->',f1)                    #Note : in join end -1 is not joined\n",
    "print('spli &join--->',' $  '.join(f1))\n",
    "print('str f3;-->',f3)\n",
    "print('spli &join---> ','27'.join(f3))\n",
    "se1='elephant is an animal'\n",
    "ss=se1.split(\"an\")\n",
    "print('split---',ss)\n",
    "print('join---->','an'.join(ss))\n"
   ]
  },
  {
   "cell_type": "code",
   "execution_count": 36,
   "metadata": {},
   "outputs": [
    {
     "name": "stdout",
     "output_type": "stream",
     "text": [
      "-----------------------replace-------------------------------\n",
      "replace---> :  Gopi kakarapalli\n",
      "-----------------------sorted-------------------------------\n",
      "sorted like abcd..---> : [' ', 'a', 'a', 'a', 'a', 'g', 'i', 'i', 'k', 'k', 'l', 'l', 'o', 'p', 'p', 'r']\n"
     ]
    }
   ],
   "source": [
    "print('-----------------------replace-------------------------------')\n",
    "print('replace---> : ',s1.replace('g','G'))   #(org str,replace str)\n",
    "print('-----------------------sorted-------------------------------')\n",
    "print('sorted like abcd..---> :',sorted(s1)) #to sorted the string \n"
   ]
  },
  {
   "cell_type": "code",
   "execution_count": 37,
   "metadata": {},
   "outputs": [
    {
     "name": "stdout",
     "output_type": "stream",
     "text": [
      "--------------------case conversion--------------------------\n",
      "string s1-->  gopi kakarapalli\n",
      "string s2-->  SIVA KAKARAPALLI\n",
      "string s2-->  AnushaKakarapalli\n",
      "to convert loewr case to upper case -->   GOPI KAKARAPALLI\n",
      "to convert upper case to lower case -->  siva kakarapalli\n",
      "each word state with uper case -->  Gopi Kakarapalli\n",
      "only stating leter is uppercase--> Gopi kakarapalli\n",
      "to convert upper to lower & lower to upper--> aNUSHAkAKARAPALLI\n",
      "ALL UPPER THEN GIVES LOWER OR all lower then gives lower other wise it gives lower -->  anushakakarapalli\n"
     ]
    }
   ],
   "source": [
    "print('--------------------case conversion--------------------------')\n",
    "print('string s1--> ',s1)\n",
    "print('string s2--> ',s2)\n",
    "print('string s2--> ',s3)\n",
    "print('to convert loewr case to upper case -->  ',s1.upper())\n",
    "print('to convert upper case to lower case --> ',s2.lower())\n",
    "print('each word state with uper case --> ',s1.title())\n",
    "print('only stating leter is uppercase-->', s1.capitalize())\n",
    "print('to convert upper to lower & lower to upper-->',s3.swapcase())\n",
    "print('ALL UPPER THEN GIVES LOWER OR \\\n",
    "all lower then gives lower other wise it gives lower --> ',s3.casefold())\n"
   ]
  },
  {
   "cell_type": "code",
   "execution_count": 40,
   "metadata": {},
   "outputs": [
    {
     "name": "stdout",
     "output_type": "stream",
     "text": [
      "--------------------checking string -----------------------------\n",
      "2---> :  2\n",
      "3---> :  True\n",
      "4---> :  True\n",
      "5---> :  4\n",
      "5 a-> :  6\n",
      "6---> :  5\n",
      "6 a-> :  11\n",
      "7---> :  15\n",
      "8---> :  True\n",
      "9---> :  True\n",
      "10---> :  True\n",
      "11---> :  True\n",
      "12---> :  False\n",
      "13---> :  True\n",
      "14---> :  True\n",
      "15---> :  False\n",
      "16 a---> :  gopi kakarapalli  \n",
      "16 b---> :   gopi kakarapalli\n",
      "16 c---> :  gopi kakarapalli\n",
      "16 x---> :  gopi apparao\n",
      "to get unicode of this valve a\n",
      "to get ordenal of the unicode 97\n"
     ]
    }
   ],
   "source": [
    "print('--------------------checking string -----------------------------')\n",
    "s1='gopikakarapalli'\n",
    "s2='GOPI'\n",
    "num=\"1283410567\"\n",
    "s3=' gopi kakarapalli  '\n",
    "s4=\"--gopi apparao--\"\n",
    "\n",
    "print('2---> : ',s1.count('ka'))     #to returns the no patens count matched .coun('patens')\n",
    "print('3---> : ',s1.startswith('gopi'))#returns given satarting patens are T/F (^__)\n",
    "print('4---> : ',s1.endswith('lli'))    #returns given ending patens are T/F (__$)\n",
    "print('5---> : ',s1.find('k'))          #returns the index value of given paten\n",
    "print('5 a-> : ',s1.rfind('k'))         #returns the index value of given paten in right side\n",
    "print('6---> : ',s1.index('a'))         #returns the index value of given paten\n",
    "print('6 a-> : ',s1.rindex('a'))        #returns the index value of given paten in right side\n",
    "print('7---> : ',len(s1))               #returns the length of string\n",
    "\n",
    "print('8---> : ',s1.isalpha())          #returns all are alpha are not T/F\n",
    "print('9---> : ',num.isalnum())         # returns all are num are not T/F\n",
    "print('10---> : ',s1.isalnum())\n",
    "print('11---> : ',num.isdecimal())      # returns all are decimal are not T/F\n",
    "print('12---> : ',s1.isdigit())         # returns all are digitare not T/F\n",
    "print('13---> : ',s1.islower())         # returns all lower case are not T/F\n",
    "print('14---> : ',s2.isupper())         # returns all uper case are not T/F\n",
    "print('15---> : ',s1.isspace())         # returns all space are present not T/F\n",
    "print('16 a---> : ',s3.lstrip())        #it removes are trim the left hand side of string space or(' or /..etc)\n",
    "print('16 b---> : ',s3.rstrip())        #it removes are trim the right hand side of string space or(' or /..etc)\n",
    "print('16 c---> : ',s3.strip())         #it removes are trim the both side of string space or(' or /..etc)\n",
    "print('16 x---> : ',s4.strip(\"-\"))      # strip any place with ('it is any symble but default is space')\n",
    "\n",
    "print('to get unicode of this valve',chr(97))\n",
    "\n",
    "print('to get ordenal of the unicode',ord('a'))\n"
   ]
  },
  {
   "cell_type": "markdown",
   "metadata": {},
   "source": [
    "### type casting or type coersion "
   ]
  },
  {
   "cell_type": "code",
   "execution_count": 41,
   "metadata": {},
   "outputs": [
    {
     "name": "stdout",
     "output_type": "stream",
     "text": [
      "------------type casting or type coersion ------------\n",
      "10 __a__ 1 __b__ 10 _c_ 3\n",
      "10.0 __a__ 1.0 __b__ 10.0 _c_ 10.5 _d_ 3.0\n",
      "(4+0j) _a_ (4.89+0j) _b__ (4+4j) _c_ (1+0j) _d_ (10+0j) _e_ (10.5+0j) _f_ (7+0j)\n",
      "False __1__ True _2___ True __3_ True _4_ True __5_ True __6_ False __7__ True __8__ True __9_ False __10_ True\n",
      "10 __a__ 10.333 __b__ True _c_ (10+15j) _d_ 3\n"
     ]
    }
   ],
   "source": [
    "print('------------type casting or type coersion ------------')\n",
    "'''int()\n",
    "float()\n",
    "complex()\n",
    "bool()\n",
    "str()'''\n",
    "# int__\n",
    "print(int(10.567),'__a__',int(True),'__b__',int('10'),'_c_',int(0b011))\n",
    "#print(int(\"10.5\"))    #ValueError: invalid literal for int() with base 10: '10.5'\n",
    "#print(int(10+2.3j))   #TypeError: can't convert complex to int\n",
    "#print(int('ten'))     #ValueError:could not convert string to int: 'ten''\n",
    "\n",
    "#float___\n",
    "\n",
    "print(float(10),'__a__',float(True),'__b__',float('10'),'_c_',\n",
    "      float(\"10.5\"),'_d_',float(0b011))\n",
    "#print(float(10+2.3j))   #TypeError: can't convert complex to float\n",
    "#print(float('ten'))     #ValueError: could not convert string to float: 'ten'\n",
    "#print(float('ob11'))    #ValueError: could not convert string to float: 'ob11'\n",
    "\n",
    "#complex____\n",
    "print(complex(4),'_a_',complex(4.89),'_b__',complex(4,4.0),'_c_',\n",
    "complex(True),'_d_',complex('10'),'_e_',complex('10.5'),'_f_',complex(0b111))\n",
    "#print(complex('ten'))    #ValueError: complex() arg is a malformed string\n",
    "#print(complex('0b111'))  #ValueError: complex() arg is a malformed string\n",
    "#print(complex('10','23'))#TypeError: complex() can't take second arg if first is a string\n",
    "\n",
    "# bool___\n",
    "print(bool(0),'__1__',bool(10),  '_2___',bool(10.3),'__3_',bool(10+2j), '_4_',\n",
    "bool(0b111),  '__5_',bool(10+2j),'__6_',bool(0+0j), '__7__',bool('10'),'__8__',\n",
    "bool(\"10.5\"), '__9_',bool(''),   '__10_',bool('strin'))\n",
    "#string__(str)\n",
    "print(str(10),'__a__',str(10.333),'__b__',str(True),'_c_',\n",
    "str(10+15j),'_d_',str(0b011))\n",
    "\n"
   ]
  },
  {
   "cell_type": "markdown",
   "metadata": {},
   "source": [
    "### range()   ---> immutable : "
   ]
  },
  {
   "cell_type": "code",
   "execution_count": 42,
   "metadata": {},
   "outputs": [
    {
     "name": "stdout",
     "output_type": "stream",
     "text": [
      "# range()  ---> inmutable--------------------------------------------\n",
      "<class 'range'>\n",
      "range(0, 10)\n",
      "0\n",
      "1\n",
      "2\n",
      "3\n",
      "4\n",
      "5\n",
      "6\n",
      "7\n",
      "8\n",
      "9\n",
      "<class 'range'>\n",
      "range(5, 10, 2)\n",
      "5\n",
      "7\n",
      "9\n",
      "9\n",
      "range(9, 11, 2)\n",
      "range(9, 3, -2)\n"
     ]
    }
   ],
   "source": [
    "print('# range()  ---> inmutable--------------------------------------------')\n",
    "\n",
    "'''range data type represent a sequencence of valves '''\n",
    "# form 1:- \n",
    "r=range(10)   #range(end-1)\n",
    "print(type(r))\n",
    "print(r)\n",
    "for i in r:print(i)\n",
    "\n",
    "# form 2:- \n",
    "r=range(5,10,2)   #range(end,end-1,step) default valves (int 0 ,int x, int 1\n",
    "print(type(r))\n",
    "print(r)\n",
    "for i in r:print(i)\n",
    "\n",
    "print(r[2])\n",
    "print(r[2:5])\n",
    "print(r[::-1])\n",
    "#r[0]=23      # TypeError: 'range' object does not support item assignment\n",
    "#r=range(10.5) #TypeError: 'float' object cannot be interpreted as an integer\n"
   ]
  },
  {
   "cell_type": "markdown",
   "metadata": {},
   "source": [
    "### bytes-->(immutable) anb bytesarry-->(mutable)"
   ]
  },
  {
   "cell_type": "code",
   "execution_count": 43,
   "metadata": {},
   "outputs": [
    {
     "name": "stdout",
     "output_type": "stream",
     "text": [
      "###bytes-->(immutable) anb bytesarry-->(immutable): \n",
      "##bytes-->(immutable)\n",
      "<class 'bytes'>\n",
      "99\n",
      "46\n",
      "b'c\\x05.'\n",
      "bytes data index 99\n",
      "bytes data index 59\n",
      "bytes data index 5\n",
      "bytes data index 47\n",
      "bytes data index 46\n",
      "##bytearray-->(mutable)\n",
      "<class 'bytearray'>\n",
      "99\n",
      "56\n",
      "bytearray(b'c\\x058')\n",
      "bytearray data index 99\n",
      "bytearray data index 59\n",
      "bytearray data index 5\n",
      "bytearray data index 47\n",
      "bytearray data index 56\n",
      "bytearray data index 99\n",
      "bytearray data index 59\n",
      "bytearray data index 5\n",
      "bytearray data index 47\n",
      "bytearray data index 46\n"
     ]
    }
   ],
   "source": [
    "print('###bytes-->(immutable) anb bytesarry-->(mutable): ')\n",
    "\n",
    "print('##bytes-->(immutable)')   \n",
    "l=[99,59,5,47,46]              #bytes type data use only in 0 to 256 only\n",
    "by=bytes(l)\n",
    "print(type(by))\n",
    "print(by[0])\n",
    "print(by[-1])\n",
    "print(by[:10:2])   # o\\p--> b'c\\x05.' so to print byte data in loop\n",
    "for x in by:\n",
    "       print('bytes data index',x)\n",
    "       \n",
    "l1=[100,256,257]                #erroe because of 256 is out of rang in bytes\n",
    "#for x in l1:print(bytes(l1))   #o/p  -->ValueError: bytes must be in range(0, 256)\n",
    "\n",
    "print('##bytearray-->(mutable)')\n",
    "\n",
    "l=[99,59,5,47,56]              #bytearray type data use only in 0 to 256 only\n",
    "by=bytearray(l)\n",
    "print(type(by))\n",
    "print(by[0])\n",
    "print(by[-1])\n",
    "\n",
    "print(by[:10:2])   # o\\p--> bytearray(b'c\\x05.')' so to print byte data in loop\n",
    "for x in by:\n",
    "      print('bytearray data index',x)\n",
    "by[4]=46      \n",
    "for x in by:\n",
    "      print('bytearray data index',x)\n",
    "       \n",
    "#l1= [100,256,257]                  #erroe because of 256 is out of rang in bytes\n",
    "#for x in l1:print(bytearray(l1))   #o/p  -->ValueError: bytes must be in range(0, 256)\n",
    "\n"
   ]
  },
  {
   "cell_type": "markdown",
   "metadata": {},
   "source": [
    "### list and tuple  :      -->mutable & immutable"
   ]
  },
  {
   "cell_type": "code",
   "execution_count": 45,
   "metadata": {},
   "outputs": [
    {
     "name": "stdout",
     "output_type": "stream",
     "text": [
      "# list and tuple     -->mutable & immutable-----------------------------------\n",
      "##list\n",
      "<class 'list'>\n",
      "before append--> []\n",
      "after append lisst l    [0, 99, '59', 'go', True]\n"
     ]
    }
   ],
   "source": [
    "print('# list and tuple     -->mutable & immutable-----------------------------------')\n",
    "\n",
    "print('##list')\n",
    "#---------------\n",
    "'''mutable,insertion order is preserved & Duplicates are allowed'''\n",
    "l=list()            # ro #\n",
    "l1=[]\n",
    "l1=[1, 2,2.3,4,'a','b',True]\n",
    "l2=[2,3,2,4,5,0]\n",
    "print(type(l))\n",
    "print('before append-->',l)\n",
    "l.append(00)\n",
    "l.append(99)\n",
    "l.append('59')                  #add element at end of the list\n",
    "l.append('go')\n",
    "l.append(True)\n",
    "\n",
    "print('after append lisst l   ',l)"
   ]
  },
  {
   "cell_type": "code",
   "execution_count": 46,
   "metadata": {},
   "outputs": [
    {
     "name": "stdout",
     "output_type": "stream",
     "text": [
      "after inset lisst l    [0, 99, 'K', '59', 'go', True]\n",
      "copy ===> [0, 99, 'K', '59', 'go', True]\n",
      "extend--> [0, 99, 'K', '59', 'go', True, 1, 2, 2.3, 4, 'a', 'b', True]\n",
      "replace--> [91, 99, 'K', '59', 'go', True, 1, 2, 2.3, 4, 'a', 'b', True]\n",
      "reverse--> [True, 'b', 'a', 4, 2.3, 2, 1, True, 'go', '59', 'K', 99, 91]\n",
      "count--> 1\n",
      "inx--> 9\n",
      "len--> 13\n",
      "pop--> 91\n",
      "remove--> [1, 2, 2.3, 'a', 'b', True]\n",
      "clr of l--> []\n"
     ]
    }
   ],
   "source": [
    "l.insert(2,'K')                 #Insert element at index place in list--->(inset inx , add element)\n",
    "print('after inset lisst l   ',l)\n",
    "l2=l.copy()                        #copy the list ie .,l2=l\n",
    "print('copy ===>',l2)\n",
    "l.extend(l1)                       #to add two list ie.l=l+l1\n",
    "print('extend-->',l)\n",
    "l[0]=91                            #to replace the element\n",
    "print('replace-->',l)\n",
    "l.reverse()                        #returns reverse of given list\n",
    "print('reverse-->',l)\n",
    "print('count-->',l.count('go'))      #return the no times repeted in given elements\n",
    "print('inx-->',l.index('59'))        #returns index of given element in the list     \n",
    "print('len-->',len(l))               #returns the length of list\n",
    "print('pop-->',l.pop())     #returns and remove the last element of list\n",
    "#print('pop-->',l.pop(2)\n",
    "l1.remove(4)                # remove the given element in the list\n",
    "print('remove-->',l1)\n",
    "l.clear()                   #clear the list\n",
    "print('clr of l-->',l) "
   ]
  },
  {
   "cell_type": "code",
   "execution_count": 47,
   "metadata": {},
   "outputs": [
    {
     "name": "stdout",
     "output_type": "stream",
     "text": [
      "-----------slice & index--------\n",
      "2\n",
      "[1, 2, 2.3, 'a', 'b']\n",
      "[True, 'b', 'a', 2.3, 2, 1]\n",
      "l1*2----> [1, 2, 2.3, 'a', 'b', True, 1, 2, 2.3, 'a', 'b', True]\n",
      "l2+l1----> [0, 99, 'K', '59', 'go', True, 1, 2, 2.3, 'a', 'b', True]\n",
      "False\n",
      "-----------sort of list-----------\n",
      "list   [1, 2, 3, 5, 1, 2, 9, 6, 3]\n",
      "sorted --> [1, 1, 2, 2, 3, 3, 5, 6, 9]\n",
      "sorted in reverse--> [9, 6, 5, 3, 3, 2, 2, 1, 1]\n"
     ]
    }
   ],
   "source": [
    "print('-----------slice & index--------')\n",
    "print(l1[1])\n",
    "print(l1[:-1])\n",
    "print(l1[5::-1])\n",
    "\n",
    "print('l1*2---->',l1*2)\n",
    "print('l2+l1---->',l2+l1)\n",
    "print(l1==l2)\n",
    "      \n",
    "print('-----------sort of list-----------')\n",
    "l3=[1,2,3,5,1,2,9,6,3]\n",
    "print('list  ',l3)\n",
    "print('sorted -->',sorted(l3))   # to sort the list(reverse=T\\F)\n",
    "print('sorted in reverse-->',sorted(l3,reverse=True) ) # (if reverse= True then DESNDING ORDER)\n",
    "\n"
   ]
  },
  {
   "cell_type": "code",
   "execution_count": 48,
   "metadata": {},
   "outputs": [
    {
     "name": "stdout",
     "output_type": "stream",
     "text": [
      "------------nested list----------\n",
      "nestted list  : \n",
      " [[10, 2, 3, 4, 5], 12, 30, 45]\n",
      "[10, 2, 3, 4, 5]\n",
      "3\n",
      "2\n",
      "30\n",
      "elements in matrix formate :\n",
      "12 34 2 \n",
      "12 34 0 22 \n",
      "23 67 88 \n"
     ]
    }
   ],
   "source": [
    "print('------------nested list----------')\n",
    "\n",
    "nestted=[[10,2,3,4,5],12,30,45]\n",
    "print('nestted list  : \\n',nestted)\n",
    "print(nestted[0])\n",
    "print(nestted[0][2])\n",
    "print(nestted[0][1])\n",
    "print(nestted[2])\n",
    "\n",
    "m=[[12,34,2,],[12,34,00,22],[23,67,88]]\n",
    "print('elements in matrix formate :')\n",
    "for row in range(len(m)):\n",
    "       for col in range(len(m[row])):\n",
    "              print(m[row][col],end=' ')\n",
    "       print()\n"
   ]
  },
  {
   "cell_type": "code",
   "execution_count": 49,
   "metadata": {},
   "outputs": [
    {
     "name": "stdout",
     "output_type": "stream",
     "text": [
      "----------list comprehension -----\n",
      "[1, 4, 9, 16, 25, 36, 49, 64, 81, 100]\n",
      "it is same as above but it is list comprehension form\n",
      "[1, 4, 9, 16, 25, 36, 49, 64, 81, 100]\n",
      "[4, 16, 36, 64, 100]\n"
     ]
    }
   ],
   "source": [
    "print('----------list comprehension -----')\n",
    "# list=[expression for x in sequence] it is  comprehension  \n",
    "# list=[expression for x in sequence if condtion]--> if we required any condition\n",
    "l=[]\n",
    "for x in range(1,11):\n",
    "      l.append(x*x)\n",
    "print(l)\n",
    "# Ex 1\n",
    "print('it is same as above but it is list comprehension form')\n",
    "L=[x*x for x in range(1,11)]\n",
    "print(L)\n",
    "# Ex 2\n",
    "L1=[x for x in L if x%2==0]\n",
    "print(L1)\n",
    "\n"
   ]
  },
  {
   "cell_type": "code",
   "execution_count": 50,
   "metadata": {},
   "outputs": [
    {
     "name": "stdout",
     "output_type": "stream",
     "text": [
      "#tuple        --> immutable\n",
      "<class 'tuple'>\n",
      "length of t   7\n",
      "1\n",
      "2\n",
      "min 1\n",
      "max 6\n",
      "slic--> (2, 2)\n",
      "slic with step--> ('d', 2)\n",
      "slic--> (2, 2, 'd')\n",
      "*--> (2, 2, 'd', 2, 2, 'd', 2, 2, 'd')\n",
      "- >  - True\n",
      "----sorting------\n",
      "(1, 2, 3, 6, 3, 2, 4)\n",
      "tuple  (1, 2, 3, 6, 3, 2, 4)\n",
      "list   [1, 2, 2, 3, 3, 4, 6]\n"
     ]
    }
   ],
   "source": [
    "print('#tuple        --> immutable')\n",
    "#-----------------------------------\n",
    "t=()\n",
    "print(type(t))\n",
    "t=(1,2,2,'d',4,'gopi',True)\n",
    "t1=(1,2,3,6,3,2,4)\n",
    "print('length of t  ',len(t))\n",
    "print(t.index(2))\n",
    "print(t.count(2))\n",
    "print('min',min(t1))\n",
    "print('max',max(t1))\n",
    "print('slic-->',t[1:3])\n",
    "print('slic with step-->',t[3:1:-1])\n",
    "t2=t[1:4]\n",
    "print('slic-->',t2)\n",
    "print('*-->',t2*3)\n",
    "T=(10,30,43)\n",
    "T1=(10,23,11)\n",
    "print('- >  -',T>T1)\n",
    "#t1[0]=10      #TypeError: 'tuple' object does not support item assignment\n",
    "\n",
    "print(\"----sorting------\")# tuple is no sort funcation\n",
    "print(t1)\n",
    "l=sorted(t1) # tuple is immutable so if we sort tuple first convert in list form and sort\n",
    "print('tuple ',t1)\n",
    "print('list  ',l)\n"
   ]
  },
  {
   "cell_type": "code",
   "execution_count": 52,
   "metadata": {},
   "outputs": [
    {
     "name": "stdout",
     "output_type": "stream",
     "text": [
      "----------tuple comprehension -----\n",
      "1\n",
      "4\n",
      "9\n",
      "16\n",
      "25\n",
      "36\n",
      "49\n",
      "64\n",
      "81\n",
      "100\n",
      "type of t    <class 'generator'>\n"
     ]
    }
   ],
   "source": [
    "print('----------tuple comprehension -----')#this methode is not thre in tuple but it works due to some internal genrators\n",
    "# tuple=(expression for x in sequence) it is  comprehension  \n",
    "# tuple=(expression for x in sequence if condtion)--> if we required any condition\n",
    "t=(x*x for x in range(1,11))\n",
    "for x in t:\n",
    "       print(x)\n",
    "print('type of t   ',type(t))# o/p is not tuple "
   ]
  },
  {
   "cell_type": "code",
   "execution_count": 51,
   "metadata": {},
   "outputs": [
    {
     "name": "stdout",
     "output_type": "stream",
     "text": [
      "----packing & unpacking------\n",
      "tuple packing--> (12, 2, 3)\n",
      "tuple unpacking  a=  12  b=  12  c=  3  d=  4\n",
      "tuple unpacking  list a=  1  b=  2  c=  3  d=  4\n"
     ]
    }
   ],
   "source": [
    "print('----packing & unpacking------')\n",
    "a=12\n",
    "b=2\n",
    "c=3\n",
    "t=a,b,c\n",
    "print('tuple packing-->',t)\n",
    "t=(12,12,3,4)\n",
    "a,b,c,d=t\n",
    "print('tuple unpacking  a= ',a,' b= ' ,b,' c= ',c,' d= ',d)\n",
    "l=[1,2,3,4]\n",
    "q,w,e,r=l\n",
    "print('tuple unpacking  list a= ',q,' b= ' ,w,' c= ',e,' d= ',r)# any type can be unpack string,like set,list,fs,t,d"
   ]
  },
  {
   "cell_type": "markdown",
   "metadata": {},
   "source": [
    "### set{} and frozenset    -->mutable & immutable"
   ]
  },
  {
   "cell_type": "code",
   "execution_count": 57,
   "metadata": {},
   "outputs": [
    {
     "name": "stdout",
     "output_type": "stream",
     "text": [
      "# set{} and frozenset    -->mutable & immutable--------------------\n",
      "### set{}    --->mutable\n",
      "<class 'set'>\n",
      "insertion order not preversed--> {1, 5, 'a', 'd'}\n"
     ]
    }
   ],
   "source": [
    "print('# set{} and frozenset    -->mutable & immutable--------------------')\n",
    "print('### set{}    --->mutable')\n",
    "'''\n",
    "    1)insertion order not preversed\n",
    "    2)duplicates not allowed\n",
    "    3)index opration & slicing oprator are not working\n",
    "'''\n",
    "s=set({})                   # to cerat set with valevs like set({1,2,e,4,5})\n",
    "print(type(s))\n",
    "s=set()                       # to cerat set without any valevs\n",
    "s.add('a')\n",
    "s.add('d')\n",
    "s.add(1)\n",
    "s.add(5)\n",
    "print('insertion order not preversed-->',s)"
   ]
  },
  {
   "cell_type": "code",
   "execution_count": 55,
   "metadata": {},
   "outputs": [
    {
     "name": "stdout",
     "output_type": "stream",
     "text": [
      "set s1==>  {'gopi', 2, 3, True}\n",
      "after add & remove {True, 2, 3, 'kakarapalli gopi'}\n",
      "after update : {0, True, 2, 3, 4, 'kakarapalli gopi', 'g'}\n",
      "pop : 0\n",
      "set   {True, 2, 3, 4, 'kakarapalli gopi', 'g'}\n",
      "remove   {True, 2, 3, 4, 'kakarapalli gopi'}\n",
      "clear   set()\n",
      "convert list & string into set \n",
      " {1, 2, 3, 4} \n",
      " {'j', 'd', 'g', 'f', 'a', 's', 'h'}\n"
     ]
    }
   ],
   "source": [
    "s1={2,2,2,3,'gopi',3,True}     # it is set={any elements} it show set data type\n",
    "print('set s1==> ',s1)\n",
    "s1.add('kakarapalli gopi')   #add/remove elements after cereat set with elements only\n",
    "s1.remove('gopi')\n",
    "print('after add & remove',s1)\n",
    "l=[1,2,3,4]\n",
    "s1.update(l,range(0,4,1),'g')#to add group of elements to the set (arg is any type & any no.of arg like set,list,element)\n",
    "print('after update :',s1) # IN case elements updata must be  more then one element\n",
    "#s1.update(5)#(only one object is not updated because it squ updata)TypeError: 'int' object is not iterable\n",
    "print('pop :',s1.pop())# remove and return some random elemment\n",
    "print('set  ',s1)\n",
    "s1.remove('g')#to remove the element\n",
    "print('remove  ',s1)\n",
    "s1.clear()\n",
    "print('clear  ',s1)\n",
    "\n",
    "s=set([1,2,3,4])#convert list into set\n",
    "s1=set('asdfgghj')#convert string into set\n",
    "print('convert list & string into set \\n',s,'\\n',s1)\n",
    "#s[0]=3    #TypeError: 'set' object does not support item assignment\n",
    "#s[1:2:3]   #TypeError: 'set' object is not subscriptable\n"
   ]
  },
  {
   "cell_type": "code",
   "execution_count": 58,
   "metadata": {},
   "outputs": [
    {
     "name": "stdout",
     "output_type": "stream",
     "text": [
      "--------mathematical operations in set---------------\n",
      "union  : {40, 10, 50, 20, 60, 30}\n",
      "s1|s2  : {40, 10, 50, 20, 60, 30}\n",
      "intersection  : {40, 30}\n",
      "s1|s2  : {40, 30}\n",
      "difference : {10, 20}\n",
      "symmetric difference : {10, 50, 20, 60}\n",
      "symmetric difference (s1^s2): {10, 50, 20, 60}\n",
      "memder shipe  True\n"
     ]
    }
   ],
   "source": [
    "print ('--------mathematical operations in set---------------')\n",
    "\n",
    "s1={10,20,30,40}\n",
    "s2={30,40,50,60}\n",
    "print('union  :',s1.union(s2)) # OR\n",
    "print('s1|s2  :',s1|s2)\n",
    "print('intersection  :',s1.intersection(s2)) # AND\n",
    "print('s1|s2  :',s1&s2)\n",
    "print('difference :',s1.difference(s2)) #s1-s2 the ele present in s1 but not in s2\n",
    "print('symmetric difference :',s1.symmetric_difference(s2)) #the ele present in s1 or s2 but not in both  \n",
    "print('symmetric difference (s1^s2):',(s1^s2))\n",
    "s1=set('gopi')\n",
    "print('memder shipe ' ,'g' in s1)\n"
   ]
  },
  {
   "cell_type": "code",
   "execution_count": 59,
   "metadata": {},
   "outputs": [
    {
     "name": "stdout",
     "output_type": "stream",
     "text": [
      "--------------set comprehension ---------------------\n",
      "{64, 1, 4, 36, 100, 9, 16, 49, 81, 25}\n"
     ]
    }
   ],
   "source": [
    "print('--------------set comprehension ---------------------')\n",
    "\n",
    "# set={expression for x in sequence} it is  comprehension  \n",
    "# set={expression for x in sequence if condtion}--> if we required any condition\n",
    "s={x*x for x in range(1,11)}\n",
    "print(s)\n",
    "\n"
   ]
  },
  {
   "cell_type": "code",
   "execution_count": 60,
   "metadata": {},
   "outputs": [
    {
     "name": "stdout",
     "output_type": "stream",
     "text": [
      "### frozenset    --->immutable\n",
      "<class 'frozenset'>\n",
      "frozenset fs--->  frozenset({64, 1, 4, 36, 100, 9, 16, 49, 81, 25})\n"
     ]
    }
   ],
   "source": [
    "print('### frozenset    --->immutable')\n",
    "#----------------------------------------\n",
    "'''\n",
    "    1)insertion order not preversed\n",
    "    2)duplicates not allowed\n",
    "    3)index opration & slicing oprator are not working\n",
    "'''\n",
    "fs=frozenset(s)\n",
    "print(type(fs))\n",
    "print('frozenset fs---> ',fs)\n",
    "#fs.add(0)    #AttributeError: 'frozenset' object has no attribute 'add'\n",
    "#fs.remove(1)  #AttributeError: 'frozenset' object has no attribute 'remove'\n",
    "#print(fs[0])   #TypeError: 'frozenset' object does not support\n",
    "\n"
   ]
  },
  {
   "cell_type": "markdown",
   "metadata": {},
   "source": [
    "\n",
    "### dictionary      ==> dict{K:V}           --> mutable"
   ]
  },
  {
   "cell_type": "code",
   "execution_count": 61,
   "metadata": {},
   "outputs": [
    {
     "name": "stdout",
     "output_type": "stream",
     "text": [
      "# dictionary ==>dict{Key:Value}      --> mutable\n",
      "<class 'dict'>\n",
      "{0: 27, 1: 'g', 2: 'o', 3: 'p', 4: 'i', 5: '--'}\n"
     ]
    }
   ],
   "source": [
    "print('# dictionary ==>dict{Key:Value}      --> mutable')\n",
    "\n",
    "'''1)insertion order preversed\n",
    "    2)duplicates not allowed in key but in value can alows any type of obj\n",
    "    like (int str lis set....,)\n",
    "    3)index opration & slicing oprator are not working\n",
    "'''\n",
    "d={}\n",
    "print(type(d))\n",
    "d={0:27,1:'g',2:'o',3:'p',4:'i',5:'--'}\n",
    "D={'a':'g','b':'o','c':'p','d':'i'}\n",
    "print(d)"
   ]
  },
  {
   "cell_type": "code",
   "execution_count": 62,
   "metadata": {},
   "outputs": [
    {
     "name": "stdout",
     "output_type": "stream",
     "text": [
      "after add, replace,delete ope  :\n",
      " {0: 'K', 1: 'g', 2: 'o', 3: 'p', 4: 'i'}\n",
      "after clear ope--> {}\n",
      "dic d {1: [(11, 34), {1, 2, 3}, 5]}\n",
      "g\n"
     ]
    }
   ],
   "source": [
    "d[5]=9959054746 #to add a element d[key]=vave\n",
    "d[0]='K'        #to replace a element=> d[replace key]=vave\n",
    "del d[5]   # to delete the element wrt key del var[key]\n",
    "#del d[10] # in case key is not in the dic we will get KeyError: 10, so beforce delete we moust be check key is present are not\n",
    "print('after add, replace,delete ope  :\\n',d)\n",
    "d.clear()  # to clear all element in dic\n",
    "print('after clear ope-->',d)\n",
    "#del d #to deleted dic d so it go's to Gc (NameError: name 'd' is not defined)\n",
    "#print(d)\n",
    "d[1]=[(11,34),{1,2,3},5]\n",
    "print('dic d',d)\n",
    "print(D['a'])# to print each valve wrt key\n"
   ]
  },
  {
   "cell_type": "code",
   "execution_count": 65,
   "metadata": {},
   "outputs": [
    {
     "name": "stdout",
     "output_type": "stream",
     "text": [
      "with lish of tuples  : {100: 'gopi', 200: 'chakrapani'}\n",
      "with tuples of tuples  : {100: 'gopi', 200: 'chakrapani'}\n",
      "with SET of tuples  : {2: '2', 1: 'e', 100: 'gopi', 200: 'chakrapani'}\n",
      "len   4\n",
      "writ wrt key valve  gopi\n",
      "key valve not in dict  None\n",
      "key valve not in dict & default  enter you default valve\n",
      "pop ele in dict gopi\n",
      "after pop dict ele  {2: '2', 1: 'e', 200: 'chakrapani'}\n",
      "popitem ele in dict (200, 'chakrapani')\n",
      "after popitem dict ele  {2: '2', 1: 'e'}\n",
      "all keys dict_keys([2, 1])\n",
      "all values dict_values(['2', 'e'])\n",
      "all items dict_items([(2, '2'), (1, 'e')])\n"
     ]
    }
   ],
   "source": [
    "d=dict([(100,'gopi'),(200,'chakrapani')]) # list or set or tuple of tuples of internal par must be tuple\n",
    "print('with lish of tuples  :',d)\n",
    "d=dict(((100,'gopi'),(200,'chakrapani'))) \n",
    "print('with tuples of tuples  :',d)\n",
    "d=dict({(100,'gopi'),(200,'chakrapani'),(1,'e'),(2,'2')}) \n",
    "print('with SET of tuples  :',d)\n",
    "#d=dict({[100,'gopi'],[200,'chakrapani']}) #TypeError: unhashable type: 'list'\n",
    "#print('with lish of tuples  :',d)\n",
    "print('len  ',len(d)) # to get length of dict\n",
    "print('writ wrt key valve ',d.get(100))# to get the valve wrt key\n",
    "print('key valve not in dict ',d.get(500))# if key is not present then returns you default valve None/you default valve \n",
    "print('key valve not in dict & default ',d.get(500,'enter you default valve'))\n",
    "print('pop ele in dict',d.pop(100))#remove &return wrt key\n",
    "print('after pop dict ele ',d)\n",
    "print('popitem ele in dict',d.popitem())#remove some element\n",
    "print('after popitem dict ele ',d)\n",
    "print('all keys',d.keys())#it returns all keys\n",
    "print('all values',d.values())#it returns all values\n",
    "print('all items',d.items())#it returns all items in form [(k,V),(k,v)]\n"
   ]
  },
  {
   "cell_type": "code",
   "execution_count": 66,
   "metadata": {},
   "outputs": [
    {
     "name": "stdout",
     "output_type": "stream",
     "text": [
      "each key & value  2 ..... 2\n",
      "each key & value  1 ..... e\n",
      "copy    {2: '2', 1: 'e'}\n",
      "set def gopi\n",
      "set def xxxxx\n",
      "dict d after set def {2: '2', 1: 'e', 100: 'gopi', 200: 'xxxxx'}\n",
      "dict  d+ {2: '2', 1: 'e', 100: 'gopi', 200: 'xxxxx'} \n",
      " d1= {4: 'r', 6: 'e'}\n",
      "after updata d {2: '2', 1: 'e', 100: 'gopi', 200: 'xxxxx', 4: 'r', 6: 'e'}\n"
     ]
    }
   ],
   "source": [
    "for k,v in d.items():# to get each key & value \n",
    "       print('each key & value ',k,'.....',v)\n",
    "d1=d.copy()# to copy one dict into anther dict\n",
    "print('copy   ',d1)\n",
    "print('set def',d.setdefault(100,'gopi'))#if key is not present then add value & return, if key is present we con't perform any opration &return key value\n",
    "print('set def',d.setdefault(200,'xxxxx'))#key is present so not peform any opration(key,value)\n",
    "print('dict d after set def',d)\n",
    "d1={4:'r',6:'e'}\n",
    "print('dict  d+',d,'\\n d1=',d1)\n",
    "d.update(d1)# to add one dict into anther dict but arg dict type or key value sque & onlyone args\n",
    "print('after updata d',d)\n",
    "\n"
   ]
  },
  {
   "cell_type": "code",
   "execution_count": 67,
   "metadata": {},
   "outputs": [
    {
     "name": "stdout",
     "output_type": "stream",
     "text": [
      "--------------dict comprehension ---------------------\n",
      "{1: 1, 2: 4, 3: 9, 4: 16, 5: 25, 6: 36, 7: 49, 8: 64, 9: 81, 10: 100}\n"
     ]
    }
   ],
   "source": [
    "print('--------------dict comprehension ---------------------')\n",
    "\n",
    "# dict={key : expression for x in sequence} it is  comprehension  \n",
    "# dict={key : expression for x in sequence if condtion}--> if we required any condition\n",
    "d={x:x*x for x in range(1,11)}\n",
    "print(d)"
   ]
  },
  {
   "cell_type": "markdown",
   "metadata": {},
   "source": [
    "### None data type :"
   ]
  },
  {
   "cell_type": "code",
   "execution_count": 76,
   "metadata": {},
   "outputs": [
    {
     "name": "stdout",
     "output_type": "stream",
     "text": [
      "####None data type \n",
      "None\n",
      "hi\n",
      "None\n"
     ]
    }
   ],
   "source": [
    "print('####None data type ')\n",
    "\n",
    " #o/p==> None   if no value\n",
    " # if not doing any thinking ==>pass key word\n",
    "\n",
    "def f1():\n",
    "        a=10\n",
    "def f2():print('hi')\n",
    "    \n",
    "print(f1())\n",
    "print(f2())\n"
   ]
  },
  {
   "cell_type": "raw",
   "metadata": {},
   "source": [
    "# Escape chracters:\n",
    "\n",
    "'''1)\\n   ->  now line\n",
    "   2)\\t   -->  tab\n",
    "   3)\\r   --->  carr is return ie.,go to fistto cures\n",
    "   4)\\v   ---->  vet space\n",
    "   5)\\b   ------>  back space\n",
    "   6)\\f   -------->  form feed ie.,page down\n",
    "   7)\\'  or   \\\" ------>neglating ' or \"\n",
    "   8)\\\\\n",
    "'''   \n",
    "\n"
   ]
  },
  {
   "cell_type": "code",
   "execution_count": null,
   "metadata": {},
   "outputs": [],
   "source": []
  }
 ],
 "metadata": {
  "kernelspec": {
   "display_name": "Python 3",
   "language": "python",
   "name": "python3"
  },
  "language_info": {
   "codemirror_mode": {
    "name": "ipython",
    "version": 3
   },
   "file_extension": ".py",
   "mimetype": "text/x-python",
   "name": "python",
   "nbconvert_exporter": "python",
   "pygments_lexer": "ipython3",
   "version": "3.7.1rc1"
  }
 },
 "nbformat": 4,
 "nbformat_minor": 2
}
