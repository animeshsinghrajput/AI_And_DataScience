{
 "cells": [
  {
   "cell_type": "markdown",
   "metadata": {},
   "source": [
    "# input_output_methodes:"
   ]
  },
  {
   "cell_type": "markdown",
   "metadata": {},
   "source": [
    "## output methodes"
   ]
  },
  {
   "cell_type": "code",
   "execution_count": 1,
   "metadata": {},
   "outputs": [
    {
     "name": "stdout",
     "output_type": "stream",
     "text": [
      "\n"
     ]
    }
   ],
   "source": [
    "a=9959054746\n",
    "b= 'gopikakarapalli'\n",
    "print()\n"
   ]
  },
  {
   "cell_type": "code",
   "execution_count": 2,
   "metadata": {},
   "outputs": [
    {
     "name": "stdout",
     "output_type": "stream",
     "text": [
      "hellogopikakarapalli\n",
      "hello9959054746\n"
     ]
    }
   ],
   "source": [
    "# method 1                         no sapce b/w two sring\n",
    "print(\"hello\"+b)\n",
    "print(\"hello\"+str(a))\n"
   ]
  },
  {
   "cell_type": "code",
   "execution_count": 3,
   "metadata": {},
   "outputs": [
    {
     "name": "stdout",
     "output_type": "stream",
     "text": [
      "hello gopikakarapalli\n",
      "hello 9959054746\n"
     ]
    }
   ],
   "source": [
    "# method 2                          sapce b/wtwo sring and output defaulr speration is space\n",
    "print(\"hello\",b)\n",
    "print(\"hello\",a)\n"
   ]
  },
  {
   "cell_type": "code",
   "execution_count": 4,
   "metadata": {},
   "outputs": [
    {
     "name": "stdout",
     "output_type": "stream",
     "text": [
      "hello_gopikakarapalli\n",
      "hello    9959054746\n"
     ]
    }
   ],
   "source": [
    "# method 3                       output speration is space  baaed on sep=\"req symble\"\n",
    "print(\"hello\",b,sep='_')\n",
    "print(\"hello\",a,sep=\"    \")\n"
   ]
  },
  {
   "cell_type": "code",
   "execution_count": 5,
   "metadata": {},
   "outputs": [
    {
     "name": "stdout",
     "output_type": "stream",
     "text": [
      "hello gopi       kakarapalli  \n",
      ",\t whatapp\n"
     ]
    }
   ],
   "source": [
    "# method 4                   to print multplu print lines in single line and\n",
    "                             #output speration is space  baaed on end=\"req symble\"\n",
    "\n",
    "print(\"hello\",end=\" \")\n",
    "print(\"gopi\\\n",
    "       kakarapalli  \\n,\\t whatapp\")   # next line also print in same line due to \\,\n",
    "                                      #\\n--> new line,\\t---> tab\n"
   ]
  },
  {
   "cell_type": "code",
   "execution_count": 6,
   "metadata": {},
   "outputs": [
    {
     "name": "stdout",
     "output_type": "stream",
     "text": [
      "hello gopikakarapalli \n",
      "hello 9959054746\n",
      "hello a=9959054746,b=gopikakarapalli\n"
     ]
    }
   ],
   "source": [
    "# method 5\n",
    "f=1.22\n",
    "print(\"hello %s \"%b)            #%s--> string,%d,%i-->ind,--->float\n",
    "print(\"hello %d\"%a)              \n",
    "print(\"hello a=%d,b=%s\"%(a,b))\n"
   ]
  },
  {
   "cell_type": "code",
   "execution_count": 7,
   "metadata": {},
   "outputs": [
    {
     "name": "stdout",
     "output_type": "stream",
     "text": [
      "hello a= 9959054746    b=gopikakarapalli\n",
      "hello b=gopikakarapalli    a=9959054746,\n",
      "hello a=9959054746    b=gopikakarapalli\n"
     ]
    }
   ],
   "source": [
    "# method 6\n",
    "print(\"hello a= {}    b={}\".format(a,b))     #order is impartant\n",
    "print(\"hello b={1}    a={0},\".format(a,b))   #order is based on {index}\n",
    "print(\"hello a={A}    b={B}\".format(A=a,B=b))#order is based on {wrt format(var=x)}\n"
   ]
  },
  {
   "cell_type": "markdown",
   "metadata": {},
   "source": [
    "## input methodes:"
   ]
  },
  {
   "cell_type": "code",
   "execution_count": 8,
   "metadata": {},
   "outputs": [
    {
     "name": "stdout",
     "output_type": "stream",
     "text": [
      "if u r requered lable : uuu\n",
      "<class 'str'>\n",
      "if gives int type o/p data only : 66\n",
      "int--  <class 'int'>\n",
      "if gives float type o/p data only : 900.090\n",
      "f--- <class 'float'>\n",
      "if gives bool type o/p data only : 0\n",
      "b-- <class 'bool'>\n"
     ]
    }
   ],
   "source": [
    "i=input(\"if u r requered lable : \")   #the o/p is only str type\n",
    "print(type(i))\n",
    "i=int(input(\"if gives int type o/p data only : \")) #type cast is req for other type\n",
    "print('int-- ' ,type(i))\n",
    "i=float(input(\"if gives float type o/p data only : \"))\n",
    "print('f---' ,type(i))\n",
    "i=bool(input(\"if gives bool type o/p data only : \"))      \n",
    "print('b--',type(i))\n"
   ]
  },
  {
   "cell_type": "code",
   "execution_count": 10,
   "metadata": {},
   "outputs": [
    {
     "name": "stdout",
     "output_type": "stream",
     "text": [
      "enter 3 number:3 4 5 \n",
      "3 4 5\n"
     ]
    }
   ],
   "source": [
    "#read multipule values from the keyboard in single line\n",
    "a,b,c=[int(x)for x in input(\"enter 3 number:\").split()]\n",
    "print(a,b,c)\n"
   ]
  },
  {
   "cell_type": "code",
   "execution_count": 11,
   "metadata": {},
   "outputs": [
    {
     "name": "stdout",
     "output_type": "stream",
     "text": [
      "enter date formate DD/MM/YYYY:27/07/1993\n",
      "27 7 1993\n",
      "enter 3 number formate a,b,c:4,4,4\n",
      "4.0 4.0 4.0\n"
     ]
    }
   ],
   "source": [
    "a,b,c=[int(x)for x in input(\"enter date formate DD/MM/YYYY:\").split(\"/\")]\n",
    "print(a,b,c)\n",
    "a,b,c=[float(x)for x in input(\"enter 3 number formate a,b,c:\").split(',')]\n",
    "print(a,b,c)\n"
   ]
  },
  {
   "cell_type": "code",
   "execution_count": 12,
   "metadata": {},
   "outputs": [
    {
     "name": "stdout",
     "output_type": "stream",
     "text": [
      "eval---> <class 'int'>\n"
     ]
    }
   ],
   "source": [
    "###evall():it is used of automatic type casting type casting depends on input data type only\n",
    "#---------#data tyep we are giveing ing get o/p int ,are give list give list\n",
    "\n",
    "x=eval('10+20+30')\n",
    "print('eval--->',type(x))\n"
   ]
  },
  {
   "cell_type": "code",
   "execution_count": 13,
   "metadata": {},
   "outputs": [
    {
     "name": "stdout",
     "output_type": "stream",
     "text": [
      "enter any expression2-3\n",
      "-1\n"
     ]
    }
   ],
   "source": [
    "ee=input('enter any expression')\n",
    "result=eval(ee)\n",
    "print(result)\n"
   ]
  },
  {
   "cell_type": "code",
   "execution_count": 16,
   "metadata": {},
   "outputs": [
    {
     "name": "stdout",
     "output_type": "stream",
     "text": [
      "enter any data[677,789,899]\n",
      "eval---> <class 'list'>\n",
      "677\n",
      "789\n",
      "899\n"
     ]
    }
   ],
   "source": [
    "ei=eval(input('enter any data'))\n",
    "print('eval--->',type(ei))\n",
    "for x in ei:\n",
    "        print(x)\n",
    "\n",
    "\n"
   ]
  },
  {
   "cell_type": "code",
   "execution_count": 18,
   "metadata": {},
   "outputs": [
    {
     "name": "stdout",
     "output_type": "stream",
     "text": [
      "enter 3 number:67 'uii' 90.990\n",
      "67 uii 90.99\n",
      "eval---> <class 'int'> <class 'str'> <class 'float'>\n"
     ]
    }
   ],
   "source": [
    "a,b,c=[eval(x)for x in input(\"enter 3 number:\").split()]\n",
    "print(a,b,c)\n",
    "print('eval--->',type(a),type(b),type(c))\n"
   ]
  },
  {
   "cell_type": "markdown",
   "metadata": {},
   "source": [
    "## commanad line arguments:"
   ]
  },
  {
   "cell_type": "code",
   "execution_count": 19,
   "metadata": {},
   "outputs": [
    {
     "name": "stdout",
     "output_type": "stream",
     "text": [
      "argv sis    <class 'list'>\n",
      "['c:\\\\users\\\\gopi\\\\appdata\\\\local\\\\programs\\\\python\\\\python37\\\\lib\\\\site-packages\\\\ipykernel_launcher.py', '-f', 'C:\\\\Users\\\\Gopi\\\\AppData\\\\Roaming\\\\jupyter\\\\runtime\\\\kernel-52f040cc-450b-4465-8fa6-b0ea9d799489.json']\n",
      "C:\\Users\\Gopi\\AppData\\Roaming\\jupyter\\runtime\\kernel-52f040cc-450b-4465-8fa6-b0ea9d799489.json\n"
     ]
    }
   ],
   "source": [
    "'''\n",
    "py test.py\n",
    "argv -----command arg python it is list type and it is present in \"sys modual\"\n",
    "args ---- in java it is array\n",
    "'''\n",
    "from sys import argv\n",
    "print('argv sis   ',type(argv))  #enter in commanad promt fileName.py 10 20 30 ..\n",
    "print(argv)                      #o/p [test.py,10,20,30]\n",
    "print(argv[2])                   #o/p [20]\n",
    "\n"
   ]
  },
  {
   "cell_type": "code",
   "execution_count": null,
   "metadata": {},
   "outputs": [],
   "source": []
  }
 ],
 "metadata": {
  "kernelspec": {
   "display_name": "Python 3",
   "language": "python",
   "name": "python3"
  },
  "language_info": {
   "codemirror_mode": {
    "name": "ipython",
    "version": 3
   },
   "file_extension": ".py",
   "mimetype": "text/x-python",
   "name": "python",
   "nbconvert_exporter": "python",
   "pygments_lexer": "ipython3",
   "version": "3.7.1rc1"
  }
 },
 "nbformat": 4,
 "nbformat_minor": 2
}
