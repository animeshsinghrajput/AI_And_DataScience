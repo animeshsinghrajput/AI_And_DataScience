{
 "cells": [
  {
   "cell_type": "markdown",
   "metadata": {},
   "source": [
    "# FunctionPart2_python"
   ]
  },
  {
   "cell_type": "code",
   "execution_count": 1,
   "metadata": {},
   "outputs": [
    {
     "name": "stdout",
     "output_type": "stream",
     "text": [
      "Nested functions:\n"
     ]
    }
   ],
   "source": [
    "print('Nested functions:')\n",
    "#=========================\n",
    "def fun():\n",
    "        def nestedfun():\n",
    "                pass\n"
   ]
  },
  {
   "cell_type": "code",
   "execution_count": 2,
   "metadata": {},
   "outputs": [
    {
     "name": "stdout",
     "output_type": "stream",
     "text": [
      "the sum:   30\n",
      "the avg:  15.0\n",
      "\n",
      "the sum:   37\n",
      "the avg:  18.5\n",
      "\n",
      "the sum:   38\n",
      "the avg:  19.0\n",
      "\n",
      "the sum:   210\n",
      "the avg:  105.0\n",
      "\n"
     ]
    }
   ],
   "source": [
    "#f1=outer() // function call\n",
    "#f1=outer // for outer function we are giveing another name\n",
    "#-----------------------------------------------------------------------------\n",
    "def outer():\n",
    "        def inner(a,b):\n",
    "                print(\"the sum:  \",a+b)\n",
    "                print(\"the avg: \",(a+b)/2)\n",
    "                print()\n",
    "        inner(10,20)\n",
    "        inner(10,27)\n",
    "        inner(10,28)\n",
    "        inner(10,200)\n",
    "\n",
    "outer()"
   ]
  },
  {
   "cell_type": "code",
   "execution_count": 10,
   "metadata": {},
   "outputs": [
    {
     "name": "stdout",
     "output_type": "stream",
     "text": [
      "A function can return's another function\n",
      "outer function started\n",
      "outer function returning inner function\n",
      "inner function execution\n"
     ]
    }
   ],
   "source": [
    "print(\"A function can return's another function\" )\n",
    "#================================================\n",
    "def outer1():\n",
    "        print(\"outer function started\")\n",
    "        def inner1():\n",
    "                print(\"inner function execution\")\n",
    "        print(\"outer function returning inner function\")\n",
    "        return inner1\n",
    "f1=outer1()  #outer function call's inner function\n",
    "f1()  #directcly call inner function\n",
    "\n"
   ]
  },
  {
   "cell_type": "code",
   "execution_count": 14,
   "metadata": {},
   "outputs": [
    {
     "name": "stdout",
     "output_type": "stream",
     "text": [
      "function Decorators\n",
      "hi chakrapani good morning\n",
      "hi gopi good morning\n",
      "hi siva good morning\n",
      "hi anu good morning\n",
      "==> hello xyz bad morning\n",
      "decorators required some times not req in  same times\n",
      "hi chakrapani good morning\n",
      "hi gopi good morning\n",
      "hi gopi good morning\n",
      "hi xyz good morning\n",
      "==> hello xyz bad morning\n"
     ]
    }
   ],
   "source": [
    "print('function Decorators')\n",
    "#==========================\n",
    "'''\n",
    "==>i/p function ===> decorator function ===> o/p function with extended functionlity\n",
    "==>decorators help to make our code shorter(more pythonic)\n",
    "==>decorators ae use to extend functionaly ie to add exter functions\n",
    "==> @ link the function and decorators function\n",
    "'''\n",
    "def decorVar(func):\n",
    "        def inner3(name):\n",
    "                if name=='xyz':\n",
    "                        print('==> hello xyz bad morning')\n",
    "                else:\n",
    "                        func(name)\n",
    "        return inner3\n",
    "\n",
    "@decorVar #==> decorVarfunction=decorVar(wish)\n",
    "def wish(name):\n",
    "        print('hi',name ,'good morning')\n",
    "wish('chakrapani')\n",
    "wish('gopi')\n",
    "wish('siva')\n",
    "wish('anu')\n",
    "wish('xyz')\n",
    "\n",
    "print('decorators required some times not req in  same times')\n",
    "# --------------both or same -------------\n",
    "def decorVar(func):\n",
    "        def inner3(name):\n",
    "                if name=='xyz':\n",
    "                        print('==> hello xyz bad morning')\n",
    "                else:\n",
    "                        func(name)\n",
    "        return inner3\n",
    "      \n",
    "def wish(name):\n",
    "        print('hi',name ,'good morning')\n",
    "        \n",
    "decorVarfunction=decorVar(wish) \n",
    "\n",
    "wish('chakrapani')\n",
    "wish('gopi')\n",
    "decorVarfunction('gopi')\n",
    "wish('xyz')\n",
    "decorVarfunction('xyz')\n"
   ]
  },
  {
   "cell_type": "code",
   "execution_count": 15,
   "metadata": {},
   "outputs": [
    {
     "name": "stdout",
     "output_type": "stream",
     "text": [
      "5.0\n",
      "zero is not div\n",
      "None\n"
     ]
    }
   ],
   "source": [
    "def smartdivision(funs):\n",
    "        def inner(a,b):\n",
    "                if b==0:\n",
    "                        print(\"zero is not div\")\n",
    "                        return\n",
    "                else:\n",
    "                        return funs(a,b)\n",
    "        return inner\n",
    "@smartdivision\n",
    "def division(a,b):\n",
    "        return a/b\n",
    "print(division(10,2))\n",
    "print(division(10,0))\n",
    "\n"
   ]
  },
  {
   "cell_type": "code",
   "execution_count": null,
   "metadata": {},
   "outputs": [],
   "source": []
  },
  {
   "cell_type": "code",
   "execution_count": null,
   "metadata": {},
   "outputs": [],
   "source": []
  },
  {
   "cell_type": "code",
   "execution_count": null,
   "metadata": {},
   "outputs": [],
   "source": []
  },
  {
   "cell_type": "code",
   "execution_count": null,
   "metadata": {},
   "outputs": [],
   "source": []
  },
  {
   "cell_type": "code",
   "execution_count": null,
   "metadata": {},
   "outputs": [],
   "source": []
  },
  {
   "cell_type": "code",
   "execution_count": null,
   "metadata": {},
   "outputs": [],
   "source": []
  },
  {
   "cell_type": "code",
   "execution_count": null,
   "metadata": {},
   "outputs": [],
   "source": []
  },
  {
   "cell_type": "code",
   "execution_count": null,
   "metadata": {},
   "outputs": [],
   "source": []
  },
  {
   "cell_type": "code",
   "execution_count": null,
   "metadata": {},
   "outputs": [],
   "source": []
  },
  {
   "cell_type": "code",
   "execution_count": null,
   "metadata": {},
   "outputs": [],
   "source": []
  },
  {
   "cell_type": "code",
   "execution_count": null,
   "metadata": {},
   "outputs": [],
   "source": []
  },
  {
   "cell_type": "code",
   "execution_count": null,
   "metadata": {},
   "outputs": [],
   "source": []
  }
 ],
 "metadata": {
  "kernelspec": {
   "display_name": "Python 3",
   "language": "python",
   "name": "python3"
  },
  "language_info": {
   "codemirror_mode": {
    "name": "ipython",
    "version": 3
   },
   "file_extension": ".py",
   "mimetype": "text/x-python",
   "name": "python",
   "nbconvert_exporter": "python",
   "pygments_lexer": "ipython3",
   "version": "3.7.1rc1"
  }
 },
 "nbformat": 4,
 "nbformat_minor": 2
}
