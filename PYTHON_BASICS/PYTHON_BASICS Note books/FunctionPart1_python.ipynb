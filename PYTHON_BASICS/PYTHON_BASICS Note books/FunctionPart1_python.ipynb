{
 "cells": [
  {
   "cell_type": "markdown",
   "metadata": {},
   "source": [
    "# FunctionPart1_python"
   ]
  },
  {
   "cell_type": "markdown",
   "metadata": {},
   "source": [
    "Function in py :\n",
    "---------------\n",
    "1)user defined function\n",
    "2)built function\n",
    "defineing of function: a group staments or set of instions \n",
    "----------------------\n",
    "* function blocks begin with the key def followed by the function name and parentheses ()\n",
    "* parenthesis consists of any input parameters or arg\n",
    "* the code block within every function is indented and starts with a coloc : \n",
    "* return [expression] is used to exits a function.\n",
    "calling of function:\n",
    "--------------------\n",
    "1) pass by value\n",
    "2) pass by reference\n"
   ]
  },
  {
   "cell_type": "code",
   "execution_count": 1,
   "metadata": {},
   "outputs": [
    {
     "name": "stdout",
     "output_type": "stream",
     "text": [
      "value of globlal a is : 10\n",
      "this is function\n",
      "value of a inside methode is : 10\n",
      "local var value of a inside methode is : 11\n",
      "value of a inside methode is : 2\n",
      "valuel of global a changes but b  2 13\n"
     ]
    }
   ],
   "source": [
    "a=10 # global var(function out side declear var is global var)\n",
    "b=13\n",
    "def functionName():     #this is defineing of function\n",
    "        b=11            #local var\n",
    "        global a        #if we use/change global var value in inside function we must be use global key\n",
    "        print('this is function')\n",
    "        print(\"value of a inside methode is :\",a)\n",
    "        print(\"local var value of a inside methode is :\",b)\n",
    "        a=2\n",
    "        print(\"value of a inside methode is :\",a)\n",
    "print(\"value of globlal a is :\",a)\n",
    "functionName()#calling function\n",
    "print('valuel of global a changes but b ',a,b)\n",
    "\n"
   ]
  },
  {
   "cell_type": "code",
   "execution_count": 2,
   "metadata": {},
   "outputs": [],
   "source": [
    "#=============================================================================\n"
   ]
  },
  {
   "cell_type": "code",
   "execution_count": 3,
   "metadata": {},
   "outputs": [
    {
     "name": "stdout",
     "output_type": "stream",
     "text": [
      "20  +  30  =  50\n",
      "valve of c [2, 3, 4]\n",
      "updated value [100, 90, 4]\n"
     ]
    }
   ],
   "source": [
    "def add(num1,num2):              \n",
    "        sum=num1+num2\n",
    "        print(num1,' + ',num2,' = ',sum)\n",
    "\n",
    "# pass by value\n",
    "\n",
    "add(20,30)  #this is calling of function in pass by value methode\n",
    "\n",
    "# pass by reference\n",
    "def fun(c):\n",
    "        print(\"valve of c\",c)\n",
    "        c[0]=100\n",
    "        c[1]=90\n",
    "        print('updated value',c)\n",
    "\n",
    "fun([2,3,4]) #this is calling of function in pass by reference methode\n"
   ]
  },
  {
   "cell_type": "code",
   "execution_count": 4,
   "metadata": {},
   "outputs": [],
   "source": [
    "#======================================================================================"
   ]
  },
  {
   "cell_type": "markdown",
   "metadata": {},
   "source": [
    "# types of parametes"
   ]
  },
  {
   "cell_type": "code",
   "execution_count": 9,
   "metadata": {},
   "outputs": [
    {
     "name": "stdout",
     "output_type": "stream",
     "text": [
      "types of parametes\n",
      "\n",
      "  positionl 1\n",
      "310\n",
      "-290\n",
      "3000\n",
      "0.03333333333333333\n",
      "10\n"
     ]
    }
   ],
   "source": [
    "print('types of parametes') # type of args given to arg\n",
    "#--------------------\n",
    "\n",
    "print('\\n  positionl 1')\n",
    "def calc(a,b):\n",
    "        sum=a+b\n",
    "        sub=a-b\n",
    "        mul=a*b\n",
    "        div=a/b\n",
    "        rem=a%b\n",
    "        return sum,sub,mul,div,rem\n",
    "givenNum=calc(10,300) # (positionl)   --> high priat 1  #positionof var must be same\n",
    "for x in givenNum:\n",
    "        print(x)\n",
    "        \n"
   ]
  },
  {
   "cell_type": "code",
   "execution_count": 6,
   "metadata": {},
   "outputs": [
    {
     "name": "stdout",
     "output_type": "stream",
     "text": [
      "\n",
      "  keyword arg 2\n",
      "310\n",
      "-290\n",
      "3000\n",
      "0.03333333333333333\n",
      "10\n"
     ]
    }
   ],
   "source": [
    "print('\\n  keyword arg 2')\n",
    "givenNum=calc(b=300,a=10) # (keyword arg) --> 2\n",
    "for x in givenNum:\n",
    "        print(x)"
   ]
  },
  {
   "cell_type": "code",
   "execution_count": 7,
   "metadata": {},
   "outputs": [
    {
     "name": "stdout",
     "output_type": "stream",
     "text": [
      "\n",
      "  defalult arg\n",
      "(2, 'default')\n"
     ]
    }
   ],
   "source": [
    "print('\\n  defalult arg')\n",
    "def wish(a,b='default'):# (defalult arg )---> 3   #default arg must be taken in last arg\n",
    "        sum1=a+1\n",
    "        mul1=b*1\n",
    "        return sum1,mul1\n",
    "defarg=wish(1)\n",
    "print(defarg)\n"
   ]
  },
  {
   "cell_type": "code",
   "execution_count": 12,
   "metadata": {},
   "outputs": [
    {
     "name": "stdout",
     "output_type": "stream",
     "text": [
      "\n",
      " var-arg\n",
      "the sum 1 after add 1\n",
      "the sum 2 after add 2\n",
      "the sum 1 after add 1\n",
      "the sum 2 after add 2\n",
      "the sum 3 after add 3\n",
      "the sum 1 after add 1\n",
      "the sum 2 after add 2\n",
      "the sum 3 after add 3\n",
      "the sum 4 after add 4\n"
     ]
    }
   ],
   "source": [
    "print('\\n var-arg')\n",
    "def calc1(*var):   #internal *var is a tuple ----> 4\n",
    "        for x in var:\n",
    "                result=0\n",
    "                result=result+x\n",
    "                print('the sum' ,x,\"after add\",result)\n",
    "calc1()\n",
    "calc1(1,2)\n",
    "calc1(1,2,3)\n",
    "calc1(1,2,3,4)"
   ]
  },
  {
   "cell_type": "code",
   "execution_count": 13,
   "metadata": {},
   "outputs": [
    {
     "name": "stdout",
     "output_type": "stream",
     "text": [
      "\n",
      " positionl - var-arg\n",
      "the sum 1 after add 1\n",
      "the sum 2 after add 2\n",
      "the sum 1 after add 1\n",
      "the sum 2 after add 2\n",
      "the sum 3 after add 3\n",
      "the sum 1 after add 1\n",
      "the sum 2 after add 2\n",
      "the sum 3 after add 3\n",
      "the sum 4 after add 4\n"
     ]
    }
   ],
   "source": [
    "print('\\n', 'positionl - var-arg')\n",
    "def calc1(name,*var):   #in case var-arg methode used in first arg then we must be used in var key word like below \n",
    "        for x in var:\n",
    "                result=0\n",
    "                result=result+x\n",
    "                print('the sum' ,x,\"after add\",result)\n",
    "\n",
    "calc1('g')\n",
    "calc1('g',1,2)\n",
    "calc1('g',1,2,3)\n",
    "calc1('g',1,2,3,4)\n",
    "        \n"
   ]
  },
  {
   "cell_type": "code",
   "execution_count": null,
   "metadata": {},
   "outputs": [],
   "source": [
    "print('\\n   var-arg - positionl ')\n",
    "def calc1(*var,name):   # we must be used in var key word \n",
    "        for x in var:\n",
    "                result=0\n",
    "                result=result+x\n",
    "                print('the sum' ,x,\"after add\",result,\" \",name)\n",
    "\n",
    "calc1(name='g')\n",
    "calc1(1,2,name=\"g\")\n",
    "calc1(1,2,3,name=\"g\")\n",
    "calc1(1,2,3,4,name=\"g\")\n",
    "\n"
   ]
  },
  {
   "cell_type": "code",
   "execution_count": 14,
   "metadata": {},
   "outputs": [
    {
     "name": "stdout",
     "output_type": "stream",
     "text": [
      "\n",
      "  key word var args\n",
      "<class 'dict'>\n",
      "get key and values info\n",
      "name = gopi\n",
      "makes = 100\n",
      "age = 45\n",
      "sex = m\n",
      "<class 'dict'>\n",
      "get key and values info\n",
      "name = satya\n",
      "makes = 100\n",
      "age = 50\n",
      "sex = m\n"
     ]
    }
   ],
   "source": [
    "print('\\n  key word var args')\n",
    "#-------------------------\n",
    "def display (**kwargs): #it key word var args\n",
    "        print(type(kwargs))\n",
    "        print('get key and values info')\n",
    "        for k,v in kwargs.items():\n",
    "                print(k,'=' ,v)\n",
    "\n",
    "display(name='gopi',makes=100,age=45,sex='m')\n",
    "display(name='satya',makes=100,age=50,sex='m')\n",
    "\n",
    "\n"
   ]
  },
  {
   "cell_type": "markdown",
   "metadata": {},
   "source": [
    "## recursive function"
   ]
  },
  {
   "cell_type": "code",
   "execution_count": 17,
   "metadata": {},
   "outputs": [
    {
     "name": "stdout",
     "output_type": "stream",
     "text": [
      "recursive function:\n",
      "1\n",
      "120\n"
     ]
    }
   ],
   "source": [
    "print('recursive function:') # A function that calls itself recursive functions\n",
    "#------------------------- ex :factorial(3)= 3*factorial(2)\n",
    "#                                       3*2*factorial(1)\n",
    "def factorial(n):\n",
    "        if n== 0:\n",
    "                result=1\n",
    "        else:\n",
    "                result=n*factorial(n-1)#calling of function repetedly is call recursive\n",
    "        return result\n",
    "print(factorial(0))\n",
    "print(factorial(5))\n"
   ]
  },
  {
   "cell_type": "markdown",
   "metadata": {},
   "source": [
    "## Anonymous functions"
   ]
  },
  {
   "cell_type": "code",
   "execution_count": 18,
   "metadata": {},
   "outputs": [
    {
     "name": "stdout",
     "output_type": "stream",
     "text": [
      "Anonymous functions:\n",
      "squ 16\n",
      "the biggestm of 10 and 20is :20\n"
     ]
    }
   ],
   "source": [
    "print('Anonymous functions:')# name less function is called anonymous function\n",
    "#----------------------------(instant use(only one time usage)\n",
    "'''\n",
    "in Normal function:\n",
    "def squareit(n):\n",
    "        retuen n*n\n",
    "squareit(4)\n",
    "print(squareit)\n",
    "'''\n",
    "# but in Anonymous functions:\n",
    "# lambda input:expression\n",
    "s=lambda n:n*n #lambda is a Anonymous functions\n",
    "print('squ',s(4))\n",
    "# lambda input:expression if conditions\n",
    "s=lambda a,b:a if a>b else b\n",
    "print('the biggestm of {} and {}is :{}'.format(10,20,s(10,20))) \n"
   ]
  },
  {
   "cell_type": "markdown",
   "metadata": {},
   "source": [
    "## map & filter(call a function as arg)\n",
    "syntax: xxxx(function,sequence)"
   ]
  },
  {
   "cell_type": "code",
   "execution_count": 20,
   "metadata": {},
   "outputs": [
    {
     "name": "stdout",
     "output_type": "stream",
     "text": [
      "call a function as arg\n",
      "filter methode\n",
      "[2, 4, 6, 8, 88]\n"
     ]
    }
   ],
   "source": [
    "print('call a function as arg')\n",
    "#------------------------------\n",
    "print('filter methode')\n",
    "# syntax: filte(function,sequence) the sequence may be any type like tuple list set etc..\n",
    "#note: if function return True then consider sequence element if False not consider in sequence\n",
    "def iseven(x):\n",
    "        if x%2==0:\n",
    "                return True  #this code gives True only in even num\n",
    "        else:\n",
    "                return False #this code gives False only in odd num\n",
    "l=[1,2,4,5,3,5,6,8,9,55,77,88,55]\n",
    "l1=list(filter(iseven,l))\n",
    "print(l1)"
   ]
  },
  {
   "cell_type": "code",
   "execution_count": 26,
   "metadata": {},
   "outputs": [
    {
     "name": "stdout",
     "output_type": "stream",
     "text": [
      "lambda methode\n",
      "above program with filter $ lambda \n",
      "[2, 4, 6, 8, 88]\n"
     ]
    }
   ],
   "source": [
    "print('lambda methode')\n",
    "print('above program with filter $ lambda ')\n",
    "l2=[1,2,4,5,3,5,6,8,9,55,77,88,55]\n",
    "l3=list(filter(lambda x:x%2==0,l2))\n",
    "print(l3)\n"
   ]
  },
  {
   "cell_type": "code",
   "execution_count": 27,
   "metadata": {},
   "outputs": [
    {
     "name": "stdout",
     "output_type": "stream",
     "text": [
      "map methode\n",
      "org list  [1, 2, 4, 5, 3, 5, 6, 8, 9, 55, 77, 88, 55]\n",
      "map list  [2, 4, 8, 10, 6, 10, 12, 16, 18, 110, 154, 176, 110]\n"
     ]
    }
   ],
   "source": [
    "print('map methode')\n",
    "# syntax: map(function,sequence)\n",
    "#apply some function in every element in the sequence and produce new vlaue wrt function\n",
    "\n",
    "def double(x):\n",
    "        return 2*x # this function double x value and x is seq of list l4\n",
    "l4=[1,2,4,5,3,5,6,8,9,55,77,88,55]\n",
    "l5=list(map(double,l4))\n",
    "print('org list ',l4)\n",
    "print('map list ',l5)\n"
   ]
  },
  {
   "cell_type": "code",
   "execution_count": 28,
   "metadata": {},
   "outputs": [
    {
     "name": "stdout",
     "output_type": "stream",
     "text": [
      "above program with map & lambda \n",
      "[2, 4, 8, 10, 6, 10, 12, 16, 18, 110, 154, 176, 110]\n"
     ]
    }
   ],
   "source": [
    "print('above program with map & lambda ')\n",
    "l6=list(map(lambda x:2*x,l4))\n",
    "print(l6)\n"
   ]
  },
  {
   "cell_type": "code",
   "execution_count": 29,
   "metadata": {},
   "outputs": [
    {
     "name": "stdout",
     "output_type": "stream",
     "text": [
      "map & lambda in multpul seq\n",
      "[200, 600, 1200, 2000]\n"
     ]
    }
   ],
   "source": [
    "print('map & lambda in multpul seq')\n",
    "l7=[10,20,30,40]\n",
    "l8=[20,30,40,50]\n",
    "l9=list(map(lambda x,y:x*y,l7,l8))# in multpule seq both list same length other wise not consider exter element\n",
    "print(l9)\n"
   ]
  },
  {
   "cell_type": "code",
   "execution_count": null,
   "metadata": {},
   "outputs": [],
   "source": []
  }
 ],
 "metadata": {
  "kernelspec": {
   "display_name": "Python 3",
   "language": "python",
   "name": "python3"
  },
  "language_info": {
   "codemirror_mode": {
    "name": "ipython",
    "version": 3
   },
   "file_extension": ".py",
   "mimetype": "text/x-python",
   "name": "python",
   "nbconvert_exporter": "python",
   "pygments_lexer": "ipython3",
   "version": "3.7.1rc1"
  }
 },
 "nbformat": 4,
 "nbformat_minor": 2
}
