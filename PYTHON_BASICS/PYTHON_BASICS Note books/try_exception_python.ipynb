{
 "cells": [
  {
   "cell_type": "markdown",
   "metadata": {},
   "source": [
    "# try_except_python"
   ]
  },
  {
   "cell_type": "code",
   "execution_count": 11,
   "metadata": {},
   "outputs": [
    {
     "data": {
      "text/plain": [
       "'\\ntry\\nexcept\\nfinally\\n\\ncontrol-flow in try-except-finally\\nnested try except finally\\n'"
      ]
     },
     "execution_count": 11,
     "metadata": {},
     "output_type": "execute_result"
    }
   ],
   "source": [
    "'''\n",
    "try\n",
    "except\n",
    "finally\n",
    "\n",
    "control-flow in try-except-finally\n",
    "nested try except finally\n",
    "'''"
   ]
  },
  {
   "cell_type": "code",
   "execution_count": 7,
   "metadata": {},
   "outputs": [
    {
     "data": {
      "text/plain": [
       "'\\nException :\\n-----------\\ntypes of exceptions:\\n1) predefinednexception/in built exceptions\\n             automatically raised by python\\n              ex : print(10/0) ZeroDivisionError\\n2)user Defined exceptions/customized Exceptions\\n'"
      ]
     },
     "execution_count": 7,
     "metadata": {},
     "output_type": "execute_result"
    }
   ],
   "source": [
    "'''\n",
    "Exception :\n",
    "-----------\n",
    "types of exceptions:\n",
    "1) predefinednexception/in built exceptions\n",
    "             automatically raised by python\n",
    "              ex : print(10/0) ZeroDivisionError\n",
    "2)user Defined exceptions/customized Exceptions\n",
    "'''\n"
   ]
  },
  {
   "cell_type": "code",
   "execution_count": 8,
   "metadata": {},
   "outputs": [
    {
     "name": "stdout",
     "output_type": "stream",
     "text": [
      "outer try block\n",
      "inner try block\n",
      "inner except block\n",
      "inner finally block\n",
      "outer finally block\n"
     ]
    }
   ],
   "source": [
    "try:\n",
    "       print('outer try block')\n",
    "       try:\n",
    "              print(\"inner try block\")\n",
    "              print(10/0)\n",
    "       except ZeroDivisionError:\n",
    "              print(\"inner except block\")\n",
    "       finally:\n",
    "              print(\"inner finally block\")\n",
    "except:\n",
    "       print(\"outer except block\")\n",
    "finally:\n",
    "       print(\"outer finally block\")\n"
   ]
  },
  {
   "cell_type": "code",
   "execution_count": 9,
   "metadata": {},
   "outputs": [
    {
     "name": "stdout",
     "output_type": "stream",
     "text": [
      "risky cody\n",
      "willl be executed if exception in try\n",
      "will be executed always exception raised or not raised and\n",
      "       handled or not handled\n"
     ]
    }
   ],
   "source": [
    "#else :\n",
    "#-----\n",
    "\n",
    "try:\n",
    "       print(\"risky cody\")\n",
    "       print(10/0)\n",
    "except:\n",
    "       print('willl be executed if exception in try')\n",
    "\n",
    "else:\n",
    "       print(\"willl be executed if no exception in try\")\n",
    "finally:\n",
    "       print('''will be executed always exception raised or not raised and\n",
    "       handled or not handled''')\n"
   ]
  },
  {
   "cell_type": "code",
   "execution_count": 10,
   "metadata": {},
   "outputs": [
    {
     "name": "stdout",
     "output_type": "stream",
     "text": [
      "enter youre age44\n",
      "Thanks for registration...\n"
     ]
    }
   ],
   "source": [
    "#user Defined exceptions/customized Exceptions:\n",
    "#------------------------------------------------\n",
    "\n",
    "class TooyoungException(Exception):\n",
    "      def __init__(self,arg):\n",
    "            self.msg=arg\n",
    "class toooldException(Exception):\n",
    "      def __init__(self,arg): \n",
    "            self.msg=arg\n",
    "\n",
    "age=int(input(\"enter youre age\"))\n",
    "if age>60:\n",
    "      raise TooyoungException( \"your age already crossed\")\n",
    "elif age<18:\n",
    "      raise toooldException(\"plZ wait some more time\")\n",
    "else:\n",
    "      print(\"Thanks for registration...\")"
   ]
  },
  {
   "cell_type": "code",
   "execution_count": null,
   "metadata": {},
   "outputs": [],
   "source": []
  }
 ],
 "metadata": {
  "kernelspec": {
   "display_name": "Python 3",
   "language": "python",
   "name": "python3"
  },
  "language_info": {
   "codemirror_mode": {
    "name": "ipython",
    "version": 3
   },
   "file_extension": ".py",
   "mimetype": "text/x-python",
   "name": "python",
   "nbconvert_exporter": "python",
   "pygments_lexer": "ipython3",
   "version": "3.7.1rc1"
  }
 },
 "nbformat": 4,
 "nbformat_minor": 2
}
