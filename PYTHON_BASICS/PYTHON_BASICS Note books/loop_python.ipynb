{
 "cells": [
  {
   "cell_type": "markdown",
   "metadata": {},
   "source": [
    "# loop_python"
   ]
  },
  {
   "cell_type": "code",
   "execution_count": 2,
   "metadata": {},
   "outputs": [
    {
     "data": {
      "text/plain": [
       "'\\nflow control:\\n...............\\n1)conditional statements/selection statements:\\n----------------------------------------------\\nif\\nif-else\\nif-elif-else\\n\\n2)iterative statments:\\n-----------------------\\nfor loop\\nwhile\\n3)transfer statements:\\n----------------------\\nbreak\\ncontinue\\npass\\n'"
      ]
     },
     "execution_count": 2,
     "metadata": {},
     "output_type": "execute_result"
    }
   ],
   "source": [
    "'''\n",
    "flow control:\n",
    "...............\n",
    "1)conditional statements/selection statements:\n",
    "----------------------------------------------\n",
    "if\n",
    "if-else\n",
    "if-elif-else\n",
    "\n",
    "2)iterative statments:\n",
    "-----------------------\n",
    "for loop\n",
    "while\n",
    "3)transfer statements:\n",
    "----------------------\n",
    "break\n",
    "continue\n",
    "pass\n",
    "'''"
   ]
  },
  {
   "cell_type": "code",
   "execution_count": 3,
   "metadata": {},
   "outputs": [
    {
     "name": "stdout",
     "output_type": "stream",
     "text": [
      "1)conditional statements/selection statements:\n",
      "\n",
      "if\n",
      "i am under if statement area\n",
      "i am not in if statement area\n",
      "...................................\n",
      "if-else\n",
      "i am under if statement area\n",
      "i am not in if-else statement area\n",
      "....................................\n",
      "if-elif-else\n",
      "i am under if statement area\n",
      "i am not in if-elif-else statement area\n"
     ]
    }
   ],
   "source": [
    "print('1)conditional statements/selection statements:')\n",
    "print()\n",
    "print('if')\n",
    "con=1\n",
    "if con==1:                                        \n",
    "        print('i am under if statement area')\n",
    "print('i am not in if statement area')\n",
    "print('...................................')\n",
    "\n",
    "print('if-else')\n",
    "if con==1:\n",
    "        print('i am under if statement area')\n",
    "else:                                             \n",
    "        print('i am under else statement area')\n",
    "print('i am not in if-else statement area')\n",
    "print('....................................')\n",
    "\n",
    "print('if-elif-else')\n",
    "\n",
    "if con==1:                              #if can be use any no.of times\n",
    "        print('i am under if statement area')\n",
    "elif con==2:                            # elif is alwaya optional & use any no.of times\n",
    "        print('i am under elif statement area')\n",
    "else:                                    # else is alwaya optional\n",
    "        print('i am under else statement area')\n",
    "print('i am not in if-elif-else statement area')\n",
    "\n",
    "# NOTE : else is alwaya used anyevey in python like\n",
    "#       for-else\n",
    "#       while-else\n",
    "#       try - except-else-finally, etc...\n"
   ]
  },
  {
   "cell_type": "code",
   "execution_count": 4,
   "metadata": {},
   "outputs": [
    {
     "name": "stdout",
     "output_type": "stream",
     "text": [
      "Nested if\n",
      "i am under if statement area\n",
      "i am under Nested if statement area\n",
      "i am not in if elif else  (or) Nested if elie else statement area\n"
     ]
    }
   ],
   "source": [
    "print('Nested if')\n",
    "if con==1:                                        \n",
    "        print('i am under if statement area')\n",
    "        if con==1:                                        \n",
    "                print('i am under Nested if statement area')\n",
    "        elif con==2:                                             \n",
    "                print('i am under Nested elif statement area')\n",
    "        else:                                             \n",
    "                print('i am under Nested else statement area')\n",
    "elif con==2:\n",
    "        print('i am under elif statement area')\n",
    "else:                                             \n",
    "        print('i am under else statement area')\n",
    "print('i am not in if elif else  (or) Nested if elie else statement area')\n"
   ]
  },
  {
   "cell_type": "code",
   "execution_count": 5,
   "metadata": {},
   "outputs": [
    {
     "name": "stdout",
     "output_type": "stream",
     "text": [
      "2)iterative statments:\n",
      "\n",
      "for loop :\n",
      "for loop count:  1   index: 0 element:  g\n",
      "for loop count:  2   index: 1 element:  o\n",
      "for loop count:  3   index: 2 element:  p\n",
      "for loop count:  4   index: 3 element:  i\n",
      "for loop count:  5   index: 4 element:   \n",
      "for loop count:  6   index: 5 element:  k\n",
      "for loop count:  7   index: 6 element:  a\n",
      "for loop count:  8   index: 7 element:  k\n",
      "for loop count:  9   index: 8 element:  a\n",
      "for loop count:  10   index: 9 element:  k\n",
      "for loop count:  11   index: 10 element:  a\n",
      "for loop count:  12   index: 11 element:  r\n",
      "for loop count:  13   index: 12 element:  a\n",
      "for loop count:  14   index: 13 element:  p\n",
      "for loop count:  15   index: 14 element:  a\n",
      "for loop count:  16   index: 15 element:  l\n",
      "for loop count:  17   index: 16 element:  l\n",
      "for loop count:  18   index: 17 element:  i\n",
      "i am under for loop area\n",
      "even number:  0\n",
      "it is not even or odd\n",
      "odd number :  1\n",
      "even number:  2\n",
      "it is not even or odd\n",
      "odd number :  3\n",
      "even number:  4\n",
      "it is not even or odd\n",
      "odd number :  5\n",
      "even number:  6\n",
      "it is not even or odd\n",
      "odd number :  7\n",
      "even number:  8\n",
      "it is not even or odd\n",
      "odd number :  9\n"
     ]
    }
   ],
   "source": [
    "print('2)iterative statments:')\n",
    "\n",
    "print()\n",
    "print('for loop :')    # we know no.fo iterative go for for loop\n",
    "count=0\n",
    "index=0\n",
    "s=\"gopi kakakarapalli\"\n",
    "for x in s:\n",
    "        count+=1\n",
    "        print('for loop count: ',count,'  index:',index, 'element: ',x)\n",
    "        index+=1\n",
    "print('i am under for loop area')\n",
    "\n",
    "for x in range (10):\n",
    "        if x%2==0:                            \n",
    "                print('even number: ',x)  \n",
    "        if x%2!=0:\n",
    "                print('odd number : ',x)\n",
    "        else:\n",
    "                print('it is not even or odd')\n"
   ]
  },
  {
   "cell_type": "code",
   "execution_count": 9,
   "metadata": {},
   "outputs": [
    {
     "name": "stdout",
     "output_type": "stream",
     "text": [
      "nested for loop\n",
      "i= 0 and j=0 \n",
      "i= 0 and j=1 \n",
      "i= 0 and j=2 \n",
      "i= 1 and j=0 \n",
      "i= 1 and j=1 \n",
      "i= 1 and j=2 \n",
      "print a table n x n\\ \n",
      "enter the no.of rows:5\n",
      "#\n",
      "##\n",
      "###\n",
      "####\n",
      "#####\n"
     ]
    }
   ],
   "source": [
    "print('nested for loop')\n",
    "for i in range(2):\n",
    "        for j in range(3):\n",
    "                print('i= {} and j={} '.format( i,j ))\n",
    "\n",
    "print('print a table n x n\\ ')\n",
    "\n",
    "n=int(input('enter the no.of rows:'))\n",
    "for i in range(1,n+1):\n",
    "        print('#'* i )\n"
   ]
  },
  {
   "cell_type": "code",
   "execution_count": 8,
   "metadata": {},
   "outputs": [
    {
     "name": "stdout",
     "output_type": "stream",
     "text": [
      "enter the no.of rows:7\n",
      "* \n",
      "* * \n",
      "* * * \n",
      "* * * * \n",
      "* * * * * \n",
      "* * * * * * \n",
      "* * * * * * * \n"
     ]
    }
   ],
   "source": [
    "n=int(input('enter the no.of rows:'))\n",
    "for i in range(1,n+1):\n",
    "        for j in range(1,i+1):\n",
    "              print('*',end=\" \")\n",
    "        print()\n"
   ]
  },
  {
   "cell_type": "code",
   "execution_count": 10,
   "metadata": {},
   "outputs": [
    {
     "name": "stdout",
     "output_type": "stream",
     "text": [
      "print a table n x n \n",
      "enter the no.of rows:5\n",
      "#####\n",
      "#####\n",
      "#####\n",
      "#####\n",
      "#####\n"
     ]
    }
   ],
   "source": [
    "print('print a table n x n ')\n",
    "\n",
    "n=int(input('enter the no.of rows:'))\n",
    "for i in range(n):\n",
    "        print('#'* n )\n"
   ]
  },
  {
   "cell_type": "code",
   "execution_count": 11,
   "metadata": {},
   "outputs": [
    {
     "name": "stdout",
     "output_type": "stream",
     "text": [
      "enter the no.of rows:4\n",
      "* * * * \n",
      "* * * * \n",
      "* * * * \n",
      "* * * * \n"
     ]
    }
   ],
   "source": [
    "n=int(input('enter the no.of rows:'))\n",
    "for i in range(n):             # no .of rows\n",
    "        for j in range(n):     # no.col\n",
    "              print('*',end=\" \")\n",
    "        print()\n"
   ]
  },
  {
   "cell_type": "code",
   "execution_count": 12,
   "metadata": {},
   "outputs": [
    {
     "name": "stdout",
     "output_type": "stream",
     "text": [
      "while\n",
      "0\n",
      "1\n",
      "2\n",
      "3\n",
      "4\n",
      "5\n",
      "i am under while loop area\n"
     ]
    }
   ],
   "source": [
    "print('while')     # we don't  no.fo iterative go for while loop\n",
    "\n",
    "x=0\n",
    "while x<6:\n",
    "        print(x)\n",
    "        x+=1\n",
    "print('i am under while loop area')\n"
   ]
  },
  {
   "cell_type": "code",
   "execution_count": 13,
   "metadata": {},
   "outputs": [
    {
     "name": "stdout",
     "output_type": "stream",
     "text": [
      "enter number3\n",
      "total;  6\n"
     ]
    }
   ],
   "source": [
    "n=int(input('enter number'))\n",
    "sum=0\n",
    "i=1\n",
    "while i<=n:\n",
    "      sum=sum+i\n",
    "      i+=1\n",
    "print('total; ',sum)\n"
   ]
  },
  {
   "cell_type": "code",
   "execution_count": 14,
   "metadata": {},
   "outputs": [
    {
     "data": {
      "text/plain": [
       "\"\\nwhile True :\\n        print('I am infinite loop ')\\n\""
      ]
     },
     "execution_count": 14,
     "metadata": {},
     "output_type": "execute_result"
    }
   ],
   "source": [
    "'''\n",
    "while True :\n",
    "        print('I am infinite loop ')\n",
    "'''\n"
   ]
  },
  {
   "cell_type": "code",
   "execution_count": 16,
   "metadata": {},
   "outputs": [
    {
     "name": "stdout",
     "output_type": "stream",
     "text": [
      "3)transfer statements:\n",
      "break\n",
      "am infinite loop stop with break\n",
      "am infinite loop stop with break\n",
      "am infinite loop stop with break\n",
      "am infinite loop stop with break\n",
      "am infinite loop stop with break\n",
      "am infinite loop stop with break\n",
      "am infinite loop stop with break\n",
      "am infinite loop stop with break\n",
      "am infinite loop stop with break\n",
      "am infinite loop stop with break\n"
     ]
    }
   ],
   "source": [
    "print('3)transfer statements:')\n",
    "\n",
    "print('break')\n",
    "\n",
    "loops=0\n",
    "while 1 :\n",
    "        print('am infinite loop stop with break')\n",
    "        loops+=1\n",
    "        if loops==10:\n",
    "                break\n"
   ]
  },
  {
   "cell_type": "code",
   "execution_count": 17,
   "metadata": {},
   "outputs": [
    {
     "name": "stdout",
     "output_type": "stream",
     "text": [
      "continue\n",
      "it is odd numder :  1\n",
      "it is odd numder :  3\n",
      "it is odd numder :  5\n",
      "it is odd numder :  7\n",
      "it is odd numder :  9\n"
     ]
    }
   ],
   "source": [
    "print('continue')  #it is used to sikep some line of code\n",
    "\n",
    "for i in range(10):              #-----1\n",
    "        if i%2==0:\n",
    "                continue         #----this loop go to 1 \n",
    "        print('it is odd numder : ',i)\n"
   ]
  },
  {
   "cell_type": "code",
   "execution_count": 18,
   "metadata": {},
   "outputs": [
    {
     "name": "stdout",
     "output_type": "stream",
     "text": [
      "100/10=10.0\n",
      "100/0 error 0:inf\n",
      "100/12=8.333333333333334\n",
      "100/34=2.9411764705882355\n",
      "100/5=20.0\n",
      "100/6=16.666666666666668\n",
      "100/78=1.2820512820512822\n",
      "100/98=1.0204081632653061\n",
      "100/0 error 0:inf\n",
      "100/45=2.2222222222222223\n",
      "100/44=2.272727272727273\n",
      "100/0 error 0.0:inf\n"
     ]
    }
   ],
   "source": [
    "numbers = [10,0,12,34,5,6,78,98,0,45,44,0.0]\n",
    "for n in numbers:\n",
    "        if n==0:\n",
    "                print('100/0 error {}:inf'.format(n))\n",
    "                continue\n",
    "        print('100/{}={}'.format(n,100/n))\n"
   ]
  },
  {
   "cell_type": "code",
   "execution_count": 19,
   "metadata": {},
   "outputs": [
    {
     "name": "stdout",
     "output_type": "stream",
     "text": [
      "for-else\n",
      "processing item 10\n"
     ]
    }
   ],
   "source": [
    "print('for-else')\n",
    "car=[10,2,3,23,45,10]\n",
    "for item in car:\n",
    "        if item>100:\n",
    "                print('we  cannot process this item..',item,'insurence must be requency')\n",
    "        print('processing item',item)\n",
    "        break\n",
    "else:    #else is related to for loop and it is exitutedd only when without break exituted\n",
    "        print('congrats..all items processed successfully')\n"
   ]
  },
  {
   "cell_type": "code",
   "execution_count": 20,
   "metadata": {},
   "outputs": [
    {
     "name": "stdout",
     "output_type": "stream",
     "text": [
      "pass\n"
     ]
    }
   ],
   "source": [
    "print('pass')   # it is akeyword in py\n",
    "\n",
    "if 1:\n",
    "        pass\n",
    "else:\n",
    "        print('it is passed through else')\n"
   ]
  },
  {
   "cell_type": "code",
   "execution_count": 23,
   "metadata": {},
   "outputs": [
    {
     "name": "stdout",
     "output_type": "stream",
     "text": [
      "hi\n"
     ]
    }
   ],
   "source": [
    "def f1():\n",
    "        print('hi')\n",
    "def f2():\n",
    "        pass\n",
    "f1()\n",
    "f2()\n"
   ]
  },
  {
   "cell_type": "code",
   "execution_count": 27,
   "metadata": {},
   "outputs": [
    {
     "name": "stdout",
     "output_type": "stream",
     "text": [
      "it is chiled class\n"
     ]
    }
   ],
   "source": [
    "class p:\n",
    "        def m1():pass\n",
    "class c(p):\n",
    "        def m1():\n",
    "                print('it is chiled class')\n",
    "c.m1()"
   ]
  },
  {
   "cell_type": "code",
   "execution_count": 28,
   "metadata": {},
   "outputs": [
    {
     "name": "stdout",
     "output_type": "stream",
     "text": [
      "del statement:\n",
      "10\n",
      "10\n",
      "None\n"
     ]
    }
   ],
   "source": [
    "print('del statement:')  # # it is akeyword in py & used to delete the var\n",
    "x=10\n",
    "print(x)\n",
    "del x     # to deleted the var x\n",
    "# print(x)  # o/p is NameError: name 'x' is not defined\n",
    "a=10\n",
    "b=20\n",
    "del a,b\n",
    "#print(a,b) #NameError: name 'a' is not defined\n",
    "#print(id(a)) #NameError: name 'a' is not defined\n",
    "a=10\n",
    "print(a)\n",
    "a=None\n",
    "print(a)\n"
   ]
  },
  {
   "cell_type": "code",
   "execution_count": 29,
   "metadata": {},
   "outputs": [
    {
     "name": "stdout",
     "output_type": "stream",
     "text": [
      "---------------------------   zip    -------------------------\n",
      "[[0, 1, 2, 3, 4, 5, 6, 7, 8, 9]]\n",
      "[[0, 1, 2, 3, 4, 5, 6, 7, 8, 9]]\n",
      "[[10, 11, 12, 13, 14, 15, 16, 17, 18, 19]]\n"
     ]
    }
   ],
   "source": [
    "# iterating multiple lists at the some time\n",
    "print('---------------------------   zip    -------------------------')\n",
    "\n",
    "l1=[list(range(0,10))]\n",
    "l2=[list(range(10,20))]\n",
    "print(l1)\n",
    "\n",
    "for x,y in zip(l1,l2):\n",
    "    print(l1)\n",
    "    print(l2)\n"
   ]
  },
  {
   "cell_type": "code",
   "execution_count": null,
   "metadata": {},
   "outputs": [],
   "source": []
  },
  {
   "cell_type": "code",
   "execution_count": null,
   "metadata": {},
   "outputs": [],
   "source": []
  },
  {
   "cell_type": "code",
   "execution_count": null,
   "metadata": {},
   "outputs": [],
   "source": []
  }
 ],
 "metadata": {
  "kernelspec": {
   "display_name": "Python 3",
   "language": "python",
   "name": "python3"
  },
  "language_info": {
   "codemirror_mode": {
    "name": "ipython",
    "version": 3
   },
   "file_extension": ".py",
   "mimetype": "text/x-python",
   "name": "python",
   "nbconvert_exporter": "python",
   "pygments_lexer": "ipython3",
   "version": "3.7.1rc1"
  }
 },
 "nbformat": 4,
 "nbformat_minor": 2
}
