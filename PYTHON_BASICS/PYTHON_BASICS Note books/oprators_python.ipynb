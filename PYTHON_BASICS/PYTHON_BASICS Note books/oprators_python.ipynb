{
 "cells": [
  {
   "cell_type": "markdown",
   "metadata": {},
   "source": [
    "# operators"
   ]
  },
  {
   "cell_type": "code",
   "execution_count": 1,
   "metadata": {},
   "outputs": [
    {
     "data": {
      "text/plain": [
       "\"\\noperators \\n----------\\n1)Arithmetic Operators\\n2)Comparison (Relational) Operators\\n3)Assignment Operators\\n4)Logical Operators\\n4)Bitwise Operators\\n5)Membership Operators\\n6)Identity Operators\\n\\n'\\n1)Arithmetic Operators\\n'\\n+ --> addition\\n- --> Subtraction\\n* --> Multiplication \\n/ --> Division          # it alwayes returns the float data typr result only\\n% --> Modulo (remainder)\\n\\n// --> Floor division   # # it alwayes returns the chiled data type only\\n** --> Exponent or power (n^2)\\n\""
      ]
     },
     "execution_count": 1,
     "metadata": {},
     "output_type": "execute_result"
    }
   ],
   "source": [
    "'''\n",
    "operators \n",
    "----------\n",
    "1)Arithmetic Operators\n",
    "2)Comparison (Relational) Operators\n",
    "3)Assignment Operators\n",
    "4)Logical Operators\n",
    "4)Bitwise Operators\n",
    "5)Membership Operators\n",
    "6)Identity Operators\n",
    "\n",
    "'''''''''''''''''''''''''\n",
    "1)Arithmetic Operators\n",
    "'''''''''''''''''''''''''\n",
    "+ --> addition\n",
    "- --> Subtraction\n",
    "* --> Multiplication \n",
    "/ --> Division          # it alwayes returns the float data typr result only\n",
    "% --> Modulo (remainder)\n",
    "\n",
    "// --> Floor division   # # it alwayes returns the chiled data type only\n",
    "** --> Exponent or power (n^2)\n",
    "'''\n"
   ]
  },
  {
   "cell_type": "code",
   "execution_count": 2,
   "metadata": {},
   "outputs": [
    {
     "name": "stdout",
     "output_type": "stream",
     "text": [
      "1)Arithmetic Operators\n",
      "aaaaaaaaaaaaaaaaaaaa\n",
      "3\n"
     ]
    }
   ],
   "source": [
    "print('1)Arithmetic Operators')\n",
    "print(\"a\"*20)\n",
    "#print(\"gopi\"+10) #-->TypeError: can only concatenate str (not \"int\") to str\n",
    "print(1+2)\n",
    "#print(10/0)#-->ZeroDivisionError: division by zero \n",
    "#print(10%0)#-->ZeroDivisionError: integer division or modulo by zero\n",
    "#print(10//0)#-->ZeroDivisionError: integer division or modulo by zero\n"
   ]
  },
  {
   "cell_type": "code",
   "execution_count": 3,
   "metadata": {},
   "outputs": [
    {
     "name": "stdout",
     "output_type": "stream",
     "text": [
      "2)Comparison (Relational) Operators\n",
      "Relational\n",
      "a>b is False\n",
      "1<4 is True\n",
      "T>F is True\n",
      "##equality operators\n",
      "False\n",
      "True\n",
      "True\n",
      "True\n",
      "False\n",
      "chaining of relation oprators\n",
      "False\n",
      "True\n"
     ]
    }
   ],
   "source": [
    "''''\n",
    "2)Comparison (Relational) Operators\n",
    "------------------------------------\n",
    "Relational\n",
    "----------\n",
    ">,<, >=,<=\n",
    "Equality operators\n",
    "==  --> contain comparison\n",
    "!= --> NOT equal\n",
    "Chaining of relation oprators \n",
    "'''\n",
    "print('2)Comparison (Relational) Operators')\n",
    "\n",
    "print('Relational')\n",
    "a='gopi'             # uni code of A==>65 & a==65 \n",
    "b='gopi'\n",
    "print('a>b is', a>b) #comperison is based on alfbit (like A to Z & a to z)\n",
    "print('1<4 is', 1<4) #comperison is based on number order\n",
    "print('T>F is', True>False)\n",
    "print('##equality operators')\n",
    "print(10==20)\n",
    "print('gopi'=='gopi')\n",
    "print(10==10.0)\n",
    "print(10!=20)\n",
    "print('a'==20) #non comperbul type alwayes gives False\n",
    "print('chaining of relation oprators')\n",
    "print(10<5<30<50)    #this is called chaining of relation oprators\n",
    "print(10==5+5==2*5)\n",
    "\n"
   ]
  },
  {
   "cell_type": "code",
   "execution_count": 4,
   "metadata": {},
   "outputs": [
    {
     "name": "stdout",
     "output_type": "stream",
     "text": [
      "3)Assignment Operators(=)\n",
      "10 gopi True (2+34j)\n",
      "10 gopi True (2+34j)\n",
      "20\n"
     ]
    }
   ],
   "source": [
    "'''\n",
    "3)Assignment Operators(=):\n",
    "-------------------------\n",
    "'''\n",
    "print('3)Assignment Operators(=)')\n",
    "\n",
    "a=10\n",
    "b='gopi'\n",
    "c=True\n",
    "d=2+34j\n",
    "print(a,b,c,d)\n",
    "a,b,c,d=10,'gopi',True,2+34j #this called compound assignment\n",
    "print(a,b,c,d)\n",
    "a+=10 #(also use +=,-+,*+,/+,%=,//=,**=,&=,|=,^=,>>=,<<=)\n",
    "print(a)\n",
    "#a++ and a-- inc and dec not there in python\n"
   ]
  },
  {
   "cell_type": "code",
   "execution_count": 5,
   "metadata": {},
   "outputs": [
    {
     "name": "stdout",
     "output_type": "stream",
     "text": [
      "ternary---> 30\n",
      "neesting of if--> 10\n",
      "givening input to the system\n"
     ]
    }
   ],
   "source": [
    "#Ternary operator\n",
    "#----------------\n",
    "#x=firstvalue if condition else secondvalve   ---> it is python stx\n",
    "x=30 if 10<20 else 40\n",
    "print('ternary--->',x)\n",
    "y=10 if 20>10 else 40 if 50<60 else 70 #nessting of if\n",
    "print('neesting of if-->',y)\n",
    "#x=(condition)?firstvalue:secondvalve----> in java\n",
    "#x=(10>20)?30:40\n",
    "print('givening input to the system')\n"
   ]
  },
  {
   "cell_type": "code",
   "execution_count": 6,
   "metadata": {},
   "outputs": [
    {
     "data": {
      "text/plain": [
       "'\\n4)Logical Operators:\\nand,or,not\\nboolean type:\\n-------------\\nand --> if both arg are True then only True\\nor ---> if atlest one  arg are True then only True\\nnot ---> Give True get Fales\\nNon-boolean type:\\n-----------------\\n0  means False\\nnon-zero means true\\nempty string true\\nX and Y\\n-------\\nif x evaluates to false then result is x  otherwise returns y\\nX or Y\\n-------\\nif x evaluates to true then result is x  otherwise returns y\\n'"
      ]
     },
     "execution_count": 6,
     "metadata": {},
     "output_type": "execute_result"
    }
   ],
   "source": [
    "'''\n",
    "4)Logical Operators:\n",
    "and,or,not\n",
    "boolean type:\n",
    "-------------\n",
    "and --> if both arg are True then only True\n",
    "or ---> if atlest one  arg are True then only True\n",
    "not ---> Give True get Fales\n",
    "Non-boolean type:\n",
    "-----------------\n",
    "0  means False\n",
    "non-zero means true\n",
    "empty string true\n",
    "X and Y\n",
    "-------\n",
    "if x evaluates to false then result is x  otherwise returns y\n",
    "X or Y\n",
    "-------\n",
    "if x evaluates to true then result is x  otherwise returns y\n",
    "'''"
   ]
  },
  {
   "cell_type": "code",
   "execution_count": 7,
   "metadata": {},
   "outputs": [
    {
     "name": "stdout",
     "output_type": "stream",
     "text": [
      "4)Logical Operators:\n",
      "False\n",
      "and---> 20\n",
      "and---> 0\n",
      "and---> gopi\n",
      "or ---> 10\n",
      "or ---> 20\n",
      "not---> True\n",
      "not---> False\n"
     ]
    }
   ],
   "source": [
    "print('4)Logical Operators:')\n",
    "print(True and False)\n",
    "print(\"and--->\",10 and 20)\n",
    "print(\"and--->\",0 and 20)\n",
    "print(\"and--->\",1 and 'gopi')\n",
    "print(\"or --->\",10 or 20)\n",
    "print(\"or --->\",0 or 20)\n",
    "print('not--->',not 0)\n",
    "print('not--->',not 1)\n"
   ]
  },
  {
   "cell_type": "code",
   "execution_count": 8,
   "metadata": {},
   "outputs": [
    {
     "name": "stdout",
     "output_type": "stream",
     "text": [
      "&--> 0\n",
      "&--> True\n",
      "|--> True\n",
      "^--> False\n",
      "|--> True\n",
      "~--> -5\n",
      "<<--> 40\n",
      ">>--> 2\n"
     ]
    }
   ],
   "source": [
    "'''\n",
    "4)Bitwise Operators:\n",
    "& --> and\n",
    "| -->  or\n",
    "~ --> not (complmant)\n",
    "^ --> x-OR if both bits arg  \n",
    "<< --> lift shift oprator\n",
    ">> --> right shift oprator\n",
    "\n",
    "Notr : applicable only for int and boolran\n",
    "'''\n",
    "print('&-->',1&2)\n",
    "print('&-->',True&True)\n",
    "print('|-->',True|True)\n",
    "print('^-->',True^True)\n",
    "print('|-->',True|True)\n",
    "print('~-->',~4)\n",
    "print('<<-->',10<<2)\n",
    "print('>>-->',10>>2)\n",
    "#print('|-->',10.3&10.5)#TypeError: unsupported operand type(s) for &: 'float' and 'float'\n",
    "#print('|-->',''|'True')#TypeError: unsupported operand type(s) for |: 'str' and 'str'\n",
    "\n"
   ]
  },
  {
   "cell_type": "raw",
   "metadata": {},
   "source": [
    "special operators:\n",
    "5)Membership Operators\n",
    "6)Identity Operators:\n"
   ]
  },
  {
   "cell_type": "code",
   "execution_count": 9,
   "metadata": {},
   "outputs": [
    {
     "name": "stdout",
     "output_type": "stream",
     "text": [
      "gopi in--> True\n",
      "g in g--> True\n",
      "x in g--> False\n",
      "not in --> True\n",
      "2 in a list--> True\n"
     ]
    }
   ],
   "source": [
    "'''\n",
    "5)Membership Operators\n",
    "in--> it is use to check it is member are not\n",
    "not in--->\n",
    "'''    \n",
    "g='gopi kakarapalli'\n",
    "print('gopi in-->','gopi'in g)\n",
    "print('g in g-->','g'in g)\n",
    "print('x in g-->','x'in g)\n",
    "print('not in -->','kj'not in g)\n",
    "a=[1,2,3,4,5,7,6]\n",
    "print('2 in a list-->',1 in a)\n"
   ]
  },
  {
   "cell_type": "code",
   "execution_count": 10,
   "metadata": {},
   "outputs": [
    {
     "name": "stdout",
     "output_type": "stream",
     "text": [
      "a is b   True\n",
      "a is not b   False\n",
      "a is b   False\n",
      "140737328637040\n",
      "140737328637040\n",
      "140737328637680\n",
      "True\n"
     ]
    }
   ],
   "source": [
    "'''\n",
    "6)Identity Operators:\n",
    "is  --> it is use to address comparsion\n",
    "is not\n",
    "'''\n",
    "a=10\n",
    "b=10\n",
    "c=30\n",
    "\n",
    "print('a is b  ',a is b)   # a & b pointing to same obj then it returns Trun \n",
    "print('a is not b  ',a is not b)   # a & b not pointing to same obj then it returns Trun\n",
    "print('a is b  ',a is c)    \n",
    "print(id(a))\n",
    "print(id(b))\n",
    "print(id(c))\n",
    "print(a==b) #it is used to contant comparsion\n"
   ]
  },
  {
   "cell_type": "markdown",
   "metadata": {},
   "source": [
    "## operator precedence"
   ]
  },
  {
   "cell_type": "code",
   "execution_count": 11,
   "metadata": {},
   "outputs": [
    {
     "data": {
      "text/plain": [
       "'\\nunary operators            -->high precedance\\nbinary\\nternary operators\\nAssignment Operators       -->low precedance\\n\\n\\n\\n() ==> paranther           -->high precedance\\n** ==> power \\n~(bit),- unary operators  \\n*,/,%.//-->binary operator\\n+,-\\n<<,<<                               |\\n&                                   |\\n^\\n|\\n>,>=,<,<=,==.!=\\n=,+=,-=,*=.....                     |\\nis,isnot\\nin,not in                           |\\nnot\\nand\\nor                           -->low precedance\\n\\n\\n'"
      ]
     },
     "execution_count": 11,
     "metadata": {},
     "output_type": "execute_result"
    }
   ],
   "source": [
    "'''\n",
    "unary operators            -->high precedance\n",
    "binary\n",
    "ternary operators\n",
    "Assignment Operators       -->low precedance\n",
    "\n",
    "\n",
    "\n",
    "() ==> paranther           -->high precedance\n",
    "** ==> power \n",
    "~(bit),- unary operators  \n",
    "*,/,%.//-->binary operator\n",
    "+,-\n",
    "<<,<<                               |\n",
    "&                                   |\n",
    "^\n",
    "|\n",
    ">,>=,<,<=,==.!=\n",
    "=,+=,-=,*=.....                     |\n",
    "is,isnot\n",
    "in,not in                           |\n",
    "not\n",
    "and\n",
    "or                           -->low precedance\n",
    "\n",
    "\n",
    "'''\n",
    "\n"
   ]
  },
  {
   "cell_type": "code",
   "execution_count": null,
   "metadata": {},
   "outputs": [],
   "source": []
  },
  {
   "cell_type": "code",
   "execution_count": null,
   "metadata": {},
   "outputs": [],
   "source": []
  },
  {
   "cell_type": "code",
   "execution_count": null,
   "metadata": {},
   "outputs": [],
   "source": []
  }
 ],
 "metadata": {
  "kernelspec": {
   "display_name": "Python 3",
   "language": "python",
   "name": "python3"
  },
  "language_info": {
   "codemirror_mode": {
    "name": "ipython",
    "version": 3
   },
   "file_extension": ".py",
   "mimetype": "text/x-python",
   "name": "python",
   "nbconvert_exporter": "python",
   "pygments_lexer": "ipython3",
   "version": "3.7.1rc1"
  }
 },
 "nbformat": 4,
 "nbformat_minor": 2
}
